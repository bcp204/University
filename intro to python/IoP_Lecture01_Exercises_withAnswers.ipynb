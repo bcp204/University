{
 "cells": [
  {
   "cell_type": "markdown",
   "metadata": {},
   "source": [
    "Formative Exercise #1 \n",
    "================"
   ]
  },
  {
   "cell_type": "code",
   "execution_count": 3,
   "metadata": {},
   "outputs": [
    {
     "name": "stdout",
     "output_type": "stream",
     "text": [
      "Chico Camargo\n",
      "Chico Camargo\n"
     ]
    }
   ],
   "source": [
    "# String manipulation 1. Printing strings\n",
    "\n",
    "# Please print your name in the output. \n",
    "# Use two variables, FIRST and LAST. \n",
    "# If your name does not work with these variables, \n",
    "# then adjust how you print it, but do not destroy FIRST and LAST.\n",
    "\n",
    "\n",
    "# ANSWER BELOW HERE\n",
    "#*********************************\n",
    "\n",
    "FIRST = \"Chico\"\n",
    "LAST = \"Camargo\"\n",
    "\n",
    "# First way\n",
    "print(FIRST + ' ' + LAST)\n",
    "\n",
    "# Second way\n",
    "print(FIRST, LAST)\n"
   ]
  },
  {
   "cell_type": "code",
   "execution_count": null,
   "metadata": {},
   "outputs": [],
   "source": [
    "# String manipulation 2. Special string characters\n",
    "\n",
    "# Print your name like the following example (including the spaces) WITHOUT using three quotes. \n",
    "# Use one line for your code and replace your name below where appropriate.  \n",
    "'''\n",
    "Hi there, my name is Bruce Banner.\n",
    "\n",
    "You can call me \"The Hulk\".\n",
    "'''\n",
    "#########\n",
    "# Code to be altered: \n",
    "\n",
    "print('''\n",
    "Hi there, my name is %s %s. \n",
    "\n",
    "You can call me \"%s\". \n",
    "''' % (FIRST,LAST,PREFERRED_NAME))"
   ]
  },
  {
   "cell_type": "code",
   "execution_count": 6,
   "metadata": {},
   "outputs": [
    {
     "name": "stdout",
     "output_type": "stream",
     "text": [
      "Hi there, my name is Bruce Banner.\n",
      "You can call me \"The Hulk\".\n",
      "\n",
      "\n",
      "Hi there, my name is Bruce Banner.\n",
      "You can call me \"The Hulk\".\n"
     ]
    }
   ],
   "source": [
    "# ANSWER BELOW HERE\n",
    "\n",
    "FIRST = \"Bruce\"\n",
    "LAST = \"Banner\"\n",
    "PREFERRED_NAME = \"The Hulk\"\n",
    "\n",
    "# First:\n",
    "print('Hi there, my name is ' + FIRST + ' ' + LAST + '.\\nYou can call me \"' + PREFERRED_NAME + '\".\\n\\n')\n",
    "\n",
    "# Second\n",
    "print(\"Hi there, my name is %s %s.\\nYou can call me \\\"%s\\\".\" % (FIRST,LAST,PREFERRED_NAME))"
   ]
  },
  {
   "cell_type": "code",
   "execution_count": 1,
   "metadata": {},
   "outputs": [
    {
     "name": "stdout",
     "output_type": "stream",
     "text": [
      "Happy Birthday to you\n",
      "Happy Birthday to you\n",
      "Happy Birthday dear Chico\n",
      "Happy Birthday to you\n",
      "\n",
      "Happy Birthday to you \n",
      "Happy Birthday to you \n",
      "Happy Birthday dear Chico \n",
      "Happy Birthday to you\n"
     ]
    }
   ],
   "source": [
    "# String manipulation 3. Concatenating\n",
    "\n",
    "v1 = \"Happy Birthday\"\n",
    "v2 = \"to you\"\n",
    "v3 = \"dear\"\n",
    "\n",
    "# Using the variables above, whitespace characters and your FIRST name, print the lyrics to Happy Birthday.\n",
    "# This would be \n",
    "'''\n",
    "Happy Birthday to you\n",
    "Happy Birthday to you \n",
    "Happy Birthday dear Example\n",
    "Happy Birthday to you\n",
    "'''\n",
    "# ANSWER BELOW HERE\n",
    "\n",
    "FIRST = \"Chico\"\n",
    "\n",
    "# First:\n",
    "print(v1+' '+v2+'\\n'+ v1 + ' ' + v2 + '\\n' + v1 + ' ' + v3 + ' ' + FIRST + '\\n' + v1 + ' ' + v2 )\n",
    "\n",
    "print()\n",
    "\n",
    "# Second:\n",
    "print(v1,v2, \"\\n\"+v1,v2, \"\\n\"+v1,v3,FIRST, \"\\n\"+v1,v2)"
   ]
  },
  {
   "cell_type": "code",
   "execution_count": 12,
   "metadata": {},
   "outputs": [
    {
     "name": "stdout",
     "output_type": "stream",
     "text": [
      "MAKE THIS UPPER CASE!\n",
      "make this lower case.\n",
      "Make This Title Case.\n"
     ]
    }
   ],
   "source": [
    "# String manipulation 4. Transforming\n",
    "\n",
    "# Messing with cases. \n",
    "\n",
    "v1 = \"Make this upper case!\" # print this, but upper case\n",
    "v2 = \"Make this lower case.\" # print this, but lower case\n",
    "v3 = \"Make this title case.\" # print this, but title case\n",
    "\n",
    "# ANSWER BELOW HERE\n",
    "\n",
    "print(v1.upper())\n",
    "print(v2.lower())\n",
    "print(v3.title())\n",
    "\n",
    "# Any other way than this is overly complex. Keep it simple!"
   ]
  },
  {
   "cell_type": "code",
   "execution_count": 14,
   "metadata": {},
   "outputs": [
    {
     "name": "stdout",
     "output_type": "stream",
     "text": [
      "To get 16 you can use the * operator: 16\n",
      "To get 16 you can use the + operator: 16\n",
      "To get 16 you can use the - operator: 16\n",
      "To get 16 you can use the / operator: 16.0\n",
      "To get 16 you can use the ** operator: 16\n",
      "To get 16 you can use the // operator: 16\n",
      "\n",
      "\n",
      "\n",
      "To get 16 you can use the * operator: 16\n",
      "To get 16 you can use the + operator: 16\n",
      "To get 16 you can use the - operator: 16\n",
      "To get 16 you can use the / operator: 16.0\n",
      "To get 16 you can use the ** operator: 16\n",
      "To get 16 you can use the // operator: 16\n"
     ]
    }
   ],
   "source": [
    "# Number manipulation 1. Integers \n",
    "\n",
    "# The number 16!\n",
    "# Print six different ways to get the number sixteen\n",
    "# as a result of using six different mathematical operations, like +, -, and *.\n",
    "\n",
    "# ANSWER BELOW HERE\n",
    "\n",
    "print(\"To get 16 you can use the * operator:\", 4*4)\n",
    "print(\"To get 16 you can use the + operator:\", 8+8)\n",
    "print(\"To get 16 you can use the - operator:\", 17-1)\n",
    "print(\"To get 16 you can use the / operator:\", 32/2)\n",
    "print(\"To get 16 you can use the ** operator:\", 4**2)\n",
    "print(\"To get 16 you can use the // operator:\", 32//2)\n",
    "\n",
    "# Another idea...\n",
    "print(\"\\n\\n\")\n",
    "\n",
    "sentence = \"To get 16 you can use the %s operator:\"\n",
    "\n",
    "print(sentence % \"*\", 4*4)\n",
    "print(sentence % \"+\", 8+8)\n",
    "print(sentence % \"-\", 17-1)\n",
    "print(sentence % \"/\", 32/2)\n",
    "print(sentence % \"**\", 4**2)\n",
    "print(sentence % \"//\", 32//2)"
   ]
  },
  {
   "cell_type": "code",
   "execution_count": 16,
   "metadata": {},
   "outputs": [
    {
     "name": "stdout",
     "output_type": "stream",
     "text": [
      "1.0101010101010102  +  0.010101010101010102  =  1.0202020202020203\n"
     ]
    }
   ],
   "source": [
    "# Number manipulation 2. Floating point numbers \n",
    "\n",
    "# 1) Pick two fractions that together would compute a whole number \n",
    "# where the two fractions themselves have repeating digits. \n",
    "#\n",
    "# 2) Print the two numbers, combine them, then print the result.\n",
    "# The example from class used 1/3 + 1/3 + 1/3 = 1.0.\n",
    "#\n",
    "# 3) (optional) If you have printed a sum that results in a whole number, can you find one that doesn't?\n",
    "#\n",
    "# ANSWER BELOW HERE\n",
    "\n",
    "x = 100/99\n",
    "y = 1/99\n",
    "\n",
    "print(x,' + ',y,' = ',x+y)"
   ]
  },
  {
   "cell_type": "code",
   "execution_count": 34,
   "metadata": {},
   "outputs": [
    {
     "name": "stdout",
     "output_type": "stream",
     "text": [
      "The capital of Brazil is Brasilia\n",
      "The capital of Iceland is Reykjavik\n",
      "The capital of Australia is Canberra\n",
      "\n",
      "\n",
      " We can also print the values as a list:\n",
      " dict_values(['Brasilia', 'Reykjavik', 'Canberra'])\n"
     ]
    }
   ],
   "source": [
    "# Dictionary manipulation 1. \n",
    "\n",
    "# 1) Build a dictionary with three items where the KEY is a country and the VALUE is the capital. \n",
    "# 2) Print the capitals by querying the keys. \n",
    "\n",
    "# ANSWER BELOW HERE\n",
    "\n",
    "dict_country = {\n",
    "    'Brazil':'Brasilia',\n",
    "    'Iceland':'Reykjavik',\n",
    "    'Australia':'Canberra'\n",
    "}\n",
    "\n",
    "print('The capital of Brazil is',    dict_country['Brazil'])\n",
    "print('The capital of Iceland is',   dict_country['Iceland'])\n",
    "print('The capital of Australia is', dict_country['Australia'])\n",
    "\n",
    "# Alternatively...\n",
    "\n",
    "print(\"\\n\\n We can also print the values as a list:\\n\",dict_country.values())\n"
   ]
  },
  {
   "cell_type": "code",
   "execution_count": 17,
   "metadata": {},
   "outputs": [
    {
     "name": "stdout",
     "output_type": "stream",
     "text": [
      "{'Red': 'cherry', 'Yellow': 'Banana', 'Orange': 'Orange'}\n"
     ]
    }
   ],
   "source": [
    "# Dictionary manipulation 2. \n",
    "\n",
    "# Here is a dictionary\n",
    "\n",
    "d2 = {\"Red\":\"Apple\", \"Yellow\":\"Banana\", \"Orange\":\"Orange\"}\n",
    "\n",
    "# 1) Replace the 'apple' value with 'cherry' by assigning a new value.\n",
    "# 2) Print all of the items. \n",
    "\n",
    "# ANSWER BELOW HERE\n",
    "\n",
    "d2[\"Red\"] = \"cherry\"\n",
    "print(d2)"
   ]
  },
  {
   "cell_type": "code",
   "execution_count": 18,
   "metadata": {},
   "outputs": [
    {
     "name": "stdout",
     "output_type": "stream",
     "text": [
      "foxtrot\n",
      "alpha\n",
      "delta\n",
      "echo\n",
      "\n",
      "bravo\n",
      "echo\n",
      "echo\n",
      "foxtrot\n"
     ]
    }
   ],
   "source": [
    "# Dictionary manipulation 3. \n",
    "\n",
    "# Here is a dictionary\n",
    "\n",
    "d3  = {\"a\":\"alpha\", \"b\":\"bravo\", \"c\":\"charlie\", \"d\":\"delta\", \"e\":\"echo\", \"f\":\"foxtrot\"}\n",
    "\n",
    "# By querying this dictionary one item at a time, print out an acrostic for a word using the letters in the dictionary.\n",
    "# For example, if you wanted to print \"beef\" it would print:\n",
    "# bravo\n",
    "# echo\n",
    "# echo\n",
    "# foxtrot\n",
    "\n",
    "# ANSWER BELOW HERE\n",
    "\n",
    "print(d3['f'])\n",
    "print(d3['a'])\n",
    "print(d3['d'])\n",
    "print(d3['e'])\n",
    "\n",
    "# Or if you're wanting to go a step futher...\n",
    "print()\n",
    "\n",
    "def print_acrostic(i):\n",
    "    for character in i:\n",
    "        print(d3[character])\n",
    "        \n",
    "print_acrostic(\"beef\")\n"
   ]
  },
  {
   "cell_type": "code",
   "execution_count": 19,
   "metadata": {},
   "outputs": [
    {
     "name": "stdout",
     "output_type": "stream",
     "text": [
      "['zeroth', 'first', 'second', 'third', 'fourth', 'fifth', 'sixth']\n",
      "\n",
      "['zeroth', 'first', 'second', 'third', 'fourth', 'fifth', 'sixth']\n"
     ]
    }
   ],
   "source": [
    "# List manipulation 1. \n",
    "\n",
    "# Here is a list \n",
    "\n",
    "messy_list = [\"third\",\"first\",\"second\",\"fourth\",\"sixth\"]\n",
    "\n",
    "# messy_list is a mess and needs to be in the correct order, from \"first\" to \"sixth\". \n",
    "# \n",
    "# Create a new list, clean_list, manually placing the elements in the right order.\n",
    "# But instead of using the value of every element (i.e. \"first\" or \"fourth\"),\n",
    "# use the variable messy_list, and the indices corresponding to every element.\n",
    "# In this new list, also include a \"zeroth\" and a \"fifth\" element, in the right place,\n",
    "# so that the final list is in order from \"zeroth\" to \"sixth\".\n",
    "\n",
    "# ANSWER BELOW HERE\n",
    "\n",
    "clean_list = [\"zeroth\",messy_list[1],messy_list[2],messy_list[0],messy_list[3],'fifth',messy_list[4]]\n",
    "print(clean_list)\n",
    "\n",
    "\n",
    "# Another more complex way....\n",
    "print()\n",
    "\n",
    "order = [1,2,0,3,4]\n",
    "\n",
    "clean_list = [messy_list[i] for i in order]\n",
    "clean_list = [\"zeroth\"] + clean_list\n",
    "clean_list.insert(5,'fifth')\n",
    "\n",
    "print(clean_list)\n"
   ]
  }
 ],
 "metadata": {
  "kernelspec": {
   "display_name": "Python 3",
   "language": "python",
   "name": "python3"
  },
  "language_info": {
   "codemirror_mode": {
    "name": "ipython",
    "version": 3
   },
   "file_extension": ".py",
   "mimetype": "text/x-python",
   "name": "python",
   "nbconvert_exporter": "python",
   "pygments_lexer": "ipython3",
   "version": "3.8.8"
  }
 },
 "nbformat": 4,
 "nbformat_minor": 2
}
