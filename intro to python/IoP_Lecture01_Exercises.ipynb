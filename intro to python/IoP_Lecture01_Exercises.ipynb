{
 "cells": [
  {
   "cell_type": "markdown",
   "metadata": {},
   "source": [
    "Formative Exercise #1\n",
    "================\n"
   ]
  },
  {
   "cell_type": "code",
   "execution_count": null,
   "metadata": {
    "collapsed": true
   },
   "outputs": [],
   "source": [
    "# String manipulation 1. Printing strings\n",
    "\n",
    "# Please print your name in the output. \n",
    "# Use two variables, FIRST and LAST. \n",
    "# If your name does not work with these variables, \n",
    "# then adjust how you print it, but do not destroy FIRST and LAST.\n",
    "\n",
    "\n",
    "# ANSWER BELOW HERE\n",
    "#*********************************\n",
    "\n",
    "FIRST = \n",
    "LAST = \n"
   ]
  },
  {
   "cell_type": "code",
   "execution_count": null,
   "metadata": {},
   "outputs": [],
   "source": [
    "# String manipulation 2. Special string characters\n",
    "\n",
    "# Print your name like the following example (including the spaces) WITHOUT using three quotes. \n",
    "# Use one line for your code and replace your name below where appropriate.  \n",
    "'''\n",
    "Hi there, my name is Bruce Banner.\n",
    "\n",
    "You can call me \"The Hulk\".\n",
    "'''\n",
    "#########\n",
    "# Code to be altered: \n",
    "\n",
    "print('''\n",
    "Hi there, my name is %s %s. \n",
    "\n",
    "You can call me \"%s\". \n",
    "''' % (FIRST,LAST,PREFERRED_NAME))"
   ]
  },
  {
   "cell_type": "code",
   "execution_count": null,
   "metadata": {},
   "outputs": [],
   "source": [
    "# ANSWER BELOW HERE\n",
    "\n",
    "\n",
    "\n"
   ]
  },
  {
   "cell_type": "code",
   "execution_count": null,
   "metadata": {},
   "outputs": [],
   "source": [
    "# String manipulation 3. Concatenating\n",
    "\n",
    "v1 = \"Happy Birthday\"\n",
    "v2 = \"to you\"\n",
    "v3 = \"dear\"\n",
    "\n",
    "# Using the variables above, whitespace characters and your FIRST name, print the lyrics to Happy Birthday.\n",
    "# This would be \n",
    "'''\n",
    "Happy Birthday to you\n",
    "Happy Birthday to you \n",
    "Happy Birthday dear Example\n",
    "Happy Birthday to you\n",
    "'''\n",
    "\n",
    "# ANSWER BELOW HERE\n",
    "print(v1,v2, \"\\n\"+v1,v2, \"\\n\"+v1,v3,FIRST, \"\\n\"+v1,v2)\n",
    "\n"
   ]
  },
  {
   "cell_type": "code",
   "execution_count": null,
   "metadata": {
    "collapsed": true
   },
   "outputs": [],
   "source": [
    "# String manipulation 4. Transforming\n",
    "\n",
    "# Messing with cases. \n",
    "\n",
    "v1 = \"Make this upper case!\" # print this, but upper case\n",
    "v2 = \"Make this lower case.\" # print this, but lower case\n",
    "v3 = \"Make this title case.\" # print this, but title case\n",
    "\n",
    "# ANSWER BELOW HERE\n",
    "v1.upper()\n",
    "v2.lower()\n",
    "v3.title()\n",
    "\n"
   ]
  },
  {
   "cell_type": "code",
   "execution_count": null,
   "metadata": {},
   "outputs": [],
   "source": [
    "# Number manipulation 1. Integers \n",
    "\n",
    "# The number 16!\n",
    "# Print six different ways to get the number sixteen\n",
    "# as a result of using six different mathematical operations, like +, -, and *.\n",
    "\n",
    "# ANSWER BELOW HERE\n",
    "x = 15\n",
    "y = 1\n",
    "for i in range(0, 6):\n",
    "    print(\"To get 16 you can use the + operator:\", x, '+', y, '=',x+y)\n",
    "\n",
    "# To get you started:\n",
    "print(\"To get 16 you can use the * operator:\", 4*4)\n",
    "\n"
   ]
  },
  {
   "cell_type": "code",
   "execution_count": null,
   "metadata": {},
   "outputs": [],
   "source": [
    "# Number manipulation 2. Floating point numbers \n",
    "\n",
    "# 1) Pick two fractions that together would compute a whole number \n",
    "# where the two fractions themselves have repeating digits. \n",
    "#\n",
    "# 2) Print the two numbers, combine them, then print the result.\n",
    "# The example from class used 1/3 + 1/3 + 1/3 = 1.0.\n",
    "#\n",
    "# 3) (optional) If you have printed a sum that results in a whole number, can you find one that doesn't?\n",
    "#\n",
    "# ANSWER BELOW HERE\n",
    "x = 5/7\n",
    "y = 2/7\n",
    "\n",
    "print(x,' + ',y,' = ',x+y)\n",
    "\n"
   ]
  },
  {
   "cell_type": "code",
   "execution_count": null,
   "metadata": {
    "collapsed": true
   },
   "outputs": [],
   "source": [
    "# Dictionary manipulation 1. \n",
    "\n",
    "# 1) Build a dictionary with three items where the KEY is a country and the VALUE is the capital. \n",
    "# 2) Print the capitals by querying the keys. \n",
    "\n",
    "# ANSWER BELOW HERE\n",
    "\n",
    "\n",
    "d1 = {\"England\":\"London\", \"France\":\"Paris\", \"Ireland\":\"Dublin\"}\n",
    "print('The capital is England is', d1{'England'})\n"
   ]
  },
  {
   "cell_type": "code",
   "execution_count": null,
   "metadata": {
    "collapsed": true
   },
   "outputs": [],
   "source": [
    "# Dictionary manipulation 2. \n",
    "\n",
    "# Here is a dictionary\n",
    "\n",
    "d2 = {\"Red\":\"Apple\", \"Yellow\":\"Banana\", \"Orange\":\"Orange\"}\n",
    "\n",
    "# 1) Replace the 'apple' value with 'cherry' by assigning a new value.\n",
    "# 2) Print all of the items. \n",
    "\n",
    "# ANSWER BELOW HERE\n",
    "\n",
    "d2[\"Red\"] = 'cherry'\n",
    "\n",
    "print(d2)"
   ]
  },
  {
   "cell_type": "code",
   "execution_count": null,
   "metadata": {},
   "outputs": [],
   "source": [
    "# Dictionary manipulation 3. \n",
    "\n",
    "# Here is a dictionary\n",
    "\n",
    "d3  = {\"a\":\"alpha\", \"b\":\"bravo\", \"c\":\"charlie\", \"d\":\"delta\", \"e\":\"echo\", \"f\":\"foxtrot\"}\n",
    "\n",
    "# By querying this dictionary one item at a time, print out an acrostic for a word using the letters in the dictionary.\n",
    "# For example, if you wanted to print \"beef\" it would print:\n",
    "# bravo\n",
    "# echo\n",
    "# echo\n",
    "# foxtrot\n",
    "\n",
    "# ANSWER BELOW HERE\n",
    "word = input('what is the word')\n",
    "for i in range (0,len.word - 1):\n",
    "    letter = word.char[i]\n",
    "    print(d3[letter])\n",
    "\n"
   ]
  },
  {
   "cell_type": "code",
   "execution_count": null,
   "metadata": {
    "collapsed": true
   },
   "outputs": [],
   "source": [
    "# List manipulation 1. \n",
    "\n",
    "# Here is a list \n",
    "\n",
    "messy_list = [\"third\",\"first\",\"second\",\"fourth\",\"sixth\"]\n",
    "\n",
    "# messy_list is a mess and needs to be in the correct order, from \"first\" to \"sixth\". \n",
    "# \n",
    "# Create a new list, clean_list, manually placing the elements in the right order.\n",
    "# But instead of using the value of every element (i.e. \"first\" or \"fourth\"),\n",
    "# use the variable messy_list, and the indices corresponding to every element.\n",
    "# In this new list, also include a \"zeroth\" and a \"fifth\" element, in the right place,\n",
    "# so that the final list is in order from \"zeroth\" to \"sixth\".\n",
    "\n",
    "# ANSWER BELOW HERE\n",
    "clean_list = [\"zeroth\",messy_list[1],messy_list[2],messy_list[0],messy_list[3],'fifth',messy_list[4]]\n",
    "print(clean_list)\n",
    "\n",
    "\n"
   ]
  }
 ],
 "metadata": {
  "kernelspec": {
   "display_name": "Python 3",
   "language": "python",
   "name": "python3"
  },
  "language_info": {
   "codemirror_mode": {
    "name": "ipython",
    "version": 3
   },
   "file_extension": ".py",
   "mimetype": "text/x-python",
   "name": "python",
   "nbconvert_exporter": "python",
   "pygments_lexer": "ipython3",
   "version": "3.8.8"
  }
 },
 "nbformat": 4,
 "nbformat_minor": 2
}
