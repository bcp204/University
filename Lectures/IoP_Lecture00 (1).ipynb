{
 "cells": [
  {
   "cell_type": "markdown",
   "metadata": {},
   "source": [
    "# Welcome to python and jupyter!"
   ]
  },
  {
   "cell_type": "markdown",
   "metadata": {},
   "source": [
    "This is a Jupyter notebook. This is not like either a computer program or a word document. It has elements of both! This is both a strength and sometimes a weakness of Jupyter Notebooks. \n",
    "\n",
    "In the coming weeks you'll be using a lot of these. So it is important to get acquainted with their features and limits. "
   ]
  },
  {
   "cell_type": "markdown",
   "metadata": {},
   "source": [
    "# How to navigate a jupyter notebook\n",
    "\n",
    "## How to create a text cell\n",
    "Everything is in a cell. The two main types of cells are 'code' and 'markdown'. \n",
    "\n",
    "A markdown cell is one that has text in it. Markdown is a simple way to add features to text, like _italics_, headers, ~~strikethrough~~, and **bold**. If you double-click on this cell you can see the code that produced this text. \n",
    "\n",
    "1. Use two tildas (the ~ character) for ~~strikethrough~~\n",
    "2. Use two asterisks (the * character) for **bold**\n",
    "3. Use underscores (the _ character) for _italics_. \n",
    "4. Lists are auto generated. \n",
    "5. You can also embed code in a nice format in markdown using three tildas and the language. See here: \n",
    "\n",
    "    ~~~ python\n",
    "    print(\"Hello World\")\n",
    "    \n",
    "    ~~~\n",
    "6. Use hash (the # symbol) at the beginning of a line to make it a header. \n",
    "7. Use the dollar symbol for formulae (here I use it for $commands$ )."
   ]
  },
  {
   "cell_type": "markdown",
   "metadata": {},
   "source": [
    "## How to create a new cell / navigate with the keyboard\n",
    "\n",
    "On the left hand side is a blue bar noting which cell is in focus. The background of the cell will also give you a hint whether the cell is in focus. When it is in focus you can type in it, when it is not in focus it looks pretty. \n",
    "\n",
    "To change the focus from one cell to another, you can click on a new cell or 'run' the current cell. \n",
    "\n",
    "To run the current cell, press $shift+enter$. \n",
    "\n",
    "If the cell is not in focus you can tell because there is no cursor and pressing up or down will move the blue bar on the left hand side up and down. If it is in focus you can tell because pressing up and down will move the cursor within the cell. \n",
    "\n",
    "To create a new cell, you can do this by pressing $a$ for above and $b$ for below the current cell. \n",
    "\n",
    "To delete a cell, you can press $d d$, that's $d$ twice. In both cases, this happens when you are not in focus, otherwise you would just be typing the letter $a$ or the letters $dd$. If you want to undo that, press $z$.\n",
    "\n",
    "To get out of focus you can either: \n",
    "- Run the current cell ($shift+enter$), \n",
    "- Escape the cell ($escape$ $key$).\n",
    "\n",
    "To get in focus you can either:\n",
    "- Press $enter$,\n",
    "- $Double-click$ with the mouse.\n",
    "\n",
    "To change a cell from 'code' to 'Markdown' you can either:\n",
    "- Use the menu at the top,\n",
    "- When the cell is not in focus you can press $c$ for code and $m$ for Markdown. "
   ]
  },
  {
   "cell_type": "markdown",
   "metadata": {},
   "source": [
    "# Running code in a jupyter notebook\n",
    "\n",
    "Jupyter notebooks each come with their own 'kernel'. This means they store variables across cells. Each cell can be run and then the variables are used later. \n",
    "\n",
    "This is somewhat different than other ways of coding. Later in the course, we will briefly introduce _vi_ and _Sublime Text_ for running python programs.   \n",
    "\n",
    "To run a cell, again it is $shift + enter$. Run each cell below to print 'hello world' as well as print a simple calculation."
   ]
  },
  {
   "cell_type": "code",
   "execution_count": 1,
   "metadata": {},
   "outputs": [
    {
     "name": "stdout",
     "output_type": "stream",
     "text": [
      "Hello world!\n"
     ]
    }
   ],
   "source": [
    "print(\"Hello world!\")\n",
    "x = 3\n",
    "y = 6"
   ]
  },
  {
   "cell_type": "code",
   "execution_count": 2,
   "metadata": {},
   "outputs": [
    {
     "name": "stdout",
     "output_type": "stream",
     "text": [
      "9\n"
     ]
    }
   ],
   "source": [
    "# You will want to run this cell again after reading below.\n",
    "print(x + y)"
   ]
  },
  {
   "cell_type": "code",
   "execution_count": 3,
   "metadata": {},
   "outputs": [
    {
     "name": "stdout",
     "output_type": "stream",
     "text": [
      "demo\n"
     ]
    }
   ],
   "source": [
    "print(\"demo\")"
   ]
  },
  {
   "cell_type": "markdown",
   "metadata": {},
   "source": [
    "Notice that once we ran the first cell, we can access those variables in another cell. We did not assign a new value to x or y, so when we said \n",
    "~~~ python\n",
    "print(x + y) \n",
    "~~~\n",
    "\n",
    "then it printed $9$ which was the value of what was in the parentheses (3 + 6). Now, here's a tricky part. Below we will assign a new value to x. Then go back and run that cell above."
   ]
  },
  {
   "cell_type": "code",
   "execution_count": 4,
   "metadata": {},
   "outputs": [],
   "source": [
    "x = 10"
   ]
  },
  {
   "cell_type": "markdown",
   "metadata": {},
   "source": [
    "Notice that the value of x is the new value. So, be very careful with the order in which you run your code. If you change a variable's value and run your code out of order, you might run into trouble. \n",
    "\n",
    "This is one of the reasons we tend to do the following: \n",
    "- use single letters for disposable variables that are cell-specific and created on demand. \n",
    "- use clear notation for variables that persist (typically with underscores or camelCase)\n",
    "  - These variables should only be initialised once. Otherwise, we should consider using an 'object', which we will discuss later.\n",
    "- use ALL CAPS for variables that are static and never change."
   ]
  },
  {
   "cell_type": "markdown",
   "metadata": {},
   "source": [
    "# Last points\n",
    "\n",
    "This course will introduce a number of concepts. The goals are not just to get you programming, but to get you to think about the ways in which programming is integrated into scientific claims. This involves learning a little computer science, a little coding, a little hardware knowledge and some software tools. \n",
    "\n",
    "Next week we will begin with the basics of programming. We will learn about variables, loops, if statements and functions.\n",
    "See you soon! "
   ]
  },
  {
   "cell_type": "code",
   "execution_count": null,
   "metadata": {},
   "outputs": [],
   "source": []
  }
 ],
 "metadata": {
  "kernelspec": {
   "display_name": "Python 3",
   "language": "python",
   "name": "python3"
  },
  "language_info": {
   "codemirror_mode": {
    "name": "ipython",
    "version": 3
   },
   "file_extension": ".py",
   "mimetype": "text/x-python",
   "name": "python",
   "nbconvert_exporter": "python",
   "pygments_lexer": "ipython3",
   "version": "3.8.8"
  }
 },
 "nbformat": 4,
 "nbformat_minor": 2
}
