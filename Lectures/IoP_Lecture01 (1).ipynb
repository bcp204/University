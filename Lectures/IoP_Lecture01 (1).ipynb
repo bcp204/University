{
 "cells": [
  {
   "cell_type": "markdown",
   "metadata": {},
   "source": [
    "# Learning Python: The basics "
   ]
  },
  {
   "cell_type": "markdown",
   "metadata": {},
   "source": [
    "# Section 1. Primitive data types\n",
    "\n",
    "Python is a computer language. Most computer langauges have some resemblance to human language but they are very fussy! Every punctuation must be correct, every space has to be in place, every word has to have the correct capitalisation. \n",
    "\n",
    "Language tends to have a notion of __nouns__ and __verbs__. Python has a similar notion of __objects__ and __functions/methods__. Functions are the ways that we do things in python. They are like the verbs. For example: \n",
    "\n",
    "~~~ python \n",
    "print(\"Hello world!\") \n",
    "~~~\n",
    "\n",
    "In this case:\n",
    "- ```print``` is the function. \n",
    "- ```()``` contains what gets done. \n",
    "- ```\"Hello world!\"``` is data to which we do something, in this case, we __print__ the characters between the quotes. \n",
    "\n",
    "There are two basic types of data in python, __primitive__ data types and __object__ data types. Primitives are the basic buiding blocks of more complex data structures, much like how letters are the building blocks of words and digits the building blocks of numbers. For example, each letter is a primitive data type in python called a __character__. An ordered list of characters is called a __string__ object. \n",
    "\n",
    "Most objects you do not want to type out in full every time. For this reason we use labels as shortcuts. These labels are called __variables__. You assign a value to a variable and then you can use that variable to 'represent' the value. See how this works below:"
   ]
  },
  {
   "cell_type": "code",
   "execution_count": null,
   "metadata": {},
   "outputs": [],
   "source": [
    "new_string = 'Hello world!'\n",
    "\n",
    "print( new_string )\n",
    "\n",
    "print( type(new_string) )"
   ]
  },
  {
   "cell_type": "markdown",
   "metadata": {},
   "source": [
    "## Important notes on characters \n",
    "\n",
    "### Note. Characters are encased in quotes, but there are different kinds of quotes.\n",
    "\n",
    "Quote 1. the single tick. \n",
    "\n",
    "~~~ python\n",
    "print( 'Hello single tick world!') \n",
    "~~~\n",
    "\n",
    "Quote 2. The double tick. This is not two ticks, but the 'double-quote' character. Be careful with this character. Some programs like word like to replace the generic \" with stylized quote characters that signal the beginning and end of a quote such as “these”. Python doesn't like these. \n",
    "\n",
    "~~~ python\n",
    "print(\"Hello double tick world!\")\n",
    "~~~\n",
    "\n",
    "Quote 3. The triple tick. This is indeed three ticks in a row. We have a special use for this. Python likes to evaluate everything line by line, but you can use multiple lines inside a triple tick. \n",
    "\n",
    "~~~ python \n",
    "print('''Hello triple \n",
    "tick world!''')\n",
    "~~~"
   ]
  },
  {
   "cell_type": "code",
   "execution_count": 7,
   "metadata": {},
   "outputs": [
    {
     "name": "stdout",
     "output_type": "stream",
     "text": [
      "Hello single tick world!\n",
      "\n",
      "Hello double tick world!\n",
      "\n",
      "Hello triple \n",
      "tick world!\n"
     ]
    }
   ],
   "source": [
    "print('Hello single tick world!')\n",
    "\n",
    "print() # this just prints an empty line to make output more readable.\n",
    "\n",
    "print(\"Hello double tick world!\")\n",
    "\n",
    "print()\n",
    "\n",
    "print('''Hello triple \n",
    "tick world!''')"
   ]
  },
  {
   "cell_type": "markdown",
   "metadata": {},
   "source": [
    "### Note 2. Some types of characters can confuse python, we have to 'escape them'. \n",
    "\n",
    "So what happens if you want to use a quotation mark in your text.  If you just insert a quote then python thinks it's the end of the string, gets confused by the extra text and throws an error. Here is what an error looks like: "
   ]
  },
  {
   "cell_type": "code",
   "execution_count": 10,
   "metadata": {},
   "outputs": [
    {
     "ename": "SyntaxError",
     "evalue": "invalid syntax (<ipython-input-10-4db1689b3d03>, line 1)",
     "output_type": "error",
     "traceback": [
      "\u001b[1;36m  File \u001b[1;32m\"<ipython-input-10-4db1689b3d03>\"\u001b[1;36m, line \u001b[1;32m1\u001b[0m\n\u001b[1;33m    print(\"Hello \"Brave new World\" \")\u001b[0m\n\u001b[1;37m                      ^\u001b[0m\n\u001b[1;31mSyntaxError\u001b[0m\u001b[1;31m:\u001b[0m invalid syntax\n"
     ]
    }
   ],
   "source": [
    "print(\"Hello \"Brave new World\" \")"
   ]
  },
  {
   "cell_type": "markdown",
   "metadata": {},
   "source": [
    "Decoding errors is a bit of an art that will develop over time. Here, we can see indeed, the syntax is invalid. But python is not great at explaining why. This is where experience comes in. Over time you will get better at deducing errors and cleaning them up. \n",
    "\n",
    "In this case, we want to __escape__ the quote character so that we can print it rather than evaluate it. We use the backslash character to escape. And yes, to escape the backslash we would use...another backslash. Observe the correctly formatted print statements below: "
   ]
  },
  {
   "cell_type": "code",
   "execution_count": 14,
   "metadata": {},
   "outputs": [
    {
     "ename": "SyntaxError",
     "evalue": "EOL while scanning string literal (<ipython-input-14-855431e12730>, line 1)",
     "output_type": "error",
     "traceback": [
      "\u001b[1;36m  File \u001b[1;32m\"<ipython-input-14-855431e12730>\"\u001b[1;36m, line \u001b[1;32m1\u001b[0m\n\u001b[1;33m    print(\"Hello there \\\"coder\\\", I'm sure you'll do great! Just remember to use the \\\\\\\")\u001b[0m\n\u001b[1;37m                                                                                          ^\u001b[0m\n\u001b[1;31mSyntaxError\u001b[0m\u001b[1;31m:\u001b[0m EOL while scanning string literal\n"
     ]
    }
   ],
   "source": [
    "print(\"Hello there \\\"coder\\\", I'm sure you'll do great! Just remember to use the \\\\\\\")\n",
    "\n",
    "# Notice that I also had the single quote in there (\"I'm\").\n",
    "# You can place single quotes unescaped in double quotes and vice versa. \n",
    "\n",
    "print('Hello there \"coder\", I\\'m sure you\\'ll do great! Just remember to use the \\\\')"
   ]
  },
  {
   "cell_type": "markdown",
   "metadata": {},
   "source": [
    "### Note 3. Not all characters are visible. \n",
    "\n",
    "Sometimes we want to add some sppaces to our code, maybe a tab or maybe a new line. Up until now we have just used ```print()``` to add an extra line. We can, however, do that right in the text. These sorts of characters are called 'whitespace' characters. There's a few to know about: \n",
    "\n",
    "- \\n is the new line character\n",
    "- \\t prints a tab. This is nice when you're printing tables\n",
    "- \\r is the return carriage. You don't normally need this, but sometimes Windows adds \\r\\n to the end of a line rather than just \\r. \n",
    "\n",
    "See newline and tab in action below: "
   ]
  },
  {
   "cell_type": "code",
   "execution_count": 15,
   "metadata": {},
   "outputs": [
    {
     "name": "stdout",
     "output_type": "stream",
     "text": [
      "Hello characters\n",
      "\n",
      "Did you know that tab\tis sometimes used\n",
      "\t\t\tto move words around.\n"
     ]
    }
   ],
   "source": [
    "# A not-quite haiku\n",
    "print(\"Hello characters\")\n",
    "\n",
    "print(\"\\nDid you know that tab\\tis sometimes used\")\n",
    "\n",
    "print(\"\\t\\t\\tto move words around.\")"
   ]
  },
  {
   "cell_type": "markdown",
   "metadata": {},
   "source": [
    "Ta dah! Now we have made poetry. Bad poetry. But I hope it gets the point across. "
   ]
  },
  {
   "cell_type": "markdown",
   "metadata": {},
   "source": [
    "## The two basic types of numbers \n",
    "\n",
    "For numbers, there are two basic primitive data types (though there are more to discover later):\n",
    "- __Integers__, which refer to whole numbers such as 1, 42 or 400. \n",
    "- __Floating point numbers__, which refer to real numbers that can be approximated by digits using a decimal point, such as 0.5, 12.345 and 0.333333333."
   ]
  },
  {
   "cell_type": "code",
   "execution_count": 18,
   "metadata": {},
   "outputs": [
    {
     "name": "stdout",
     "output_type": "stream",
     "text": [
      "<class 'int'>\n",
      "<class 'float'>\n",
      "<class 'float'> 11.0\n"
     ]
    }
   ],
   "source": [
    "# An integer\n",
    "x = 7\n",
    "\n",
    "# A floating point number. Still a whole number, but the .0 makes it a float rather than an integer.\n",
    "y = 4.0\n",
    "\n",
    "print( type(x) )\n",
    "print( type(y) )\n",
    "\n",
    "z = x + y \n",
    "\n",
    "# See how z inherits the floating point number even though the value could be an integer? \n",
    "print(type(z), z)"
   ]
  },
  {
   "cell_type": "markdown",
   "metadata": {},
   "source": [
    "## Basic number operations.\n",
    "\n",
    "You will remember some basic number operations from arithmetic, such as addition and subtraction. Python implements these and a few others worth remembering. Let's have a look at several of these. You should pay attention to whether the result includes digits after the decimal point or not. We can do operations on both integers and floating points. When in doubt python uses the type of number that gives more precision. So 1 + 2.5 will not round up or down, it will return 2.5. \n",
    "\n",
    "Operations. \n",
    "\n",
    "- Addition: ```X + Y```\n",
    "- Subtraction: ```X - Y```\n",
    "- Multiplication: ```X * Y```\n",
    "- Exponent (i.e., raising X to the power of Y): ```X ** Y``` \n",
    "- Floating point division: ```X / Y``` \n",
    "- Integer division: ```X // Y``` \n",
    "- Modulo (i.e., the 'remainder' from integer division): ```X % Y```"
   ]
  },
  {
   "cell_type": "code",
   "execution_count": 21,
   "metadata": {},
   "outputs": [
    {
     "name": "stdout",
     "output_type": "stream",
     "text": [
      "10\n",
      "3\n",
      "3 1\n"
     ]
    }
   ],
   "source": [
    "a = 10\n",
    "print(a)\n",
    "b = 3\n",
    "print(b)\n",
    "print( a // b, a % b )"
   ]
  },
  {
   "cell_type": "code",
   "execution_count": 22,
   "metadata": {},
   "outputs": [
    {
     "name": "stdout",
     "output_type": "stream",
     "text": [
      "x =  9\n",
      "y =  4\n",
      "x + y =  13\n",
      "x - y =  5\n",
      "x * y =  36\n",
      "x ** y =  6561\n",
      "x / y =  2.25\n",
      "x // y =  2\n",
      "x % y =  1\n"
     ]
    }
   ],
   "source": [
    "x = 9\n",
    "y = 4\n",
    "\n",
    "print(\"x = \", x)\n",
    "print(\"y = \", y)\n",
    "\n",
    "print(\"x + y = \", x + y)\n",
    "print(\"x - y = \", x - y)\n",
    "\n",
    "print(\"x * y = \", x * y)\n",
    "print(\"x ** y = \", x ** y)\n",
    "\n",
    "print(\"x / y = \", x / y)\n",
    "print(\"x // y = \", x // y)\n",
    "print(\"x % y = \", x % y)"
   ]
  },
  {
   "cell_type": "markdown",
   "metadata": {},
   "source": [
    "### Note. declaring the right kind of number \n",
    "Notice how even though we had two integers, when we did the floating point division it returned numbers _after_ a decimal place? It's one of the ways python tries to resolve ambiguities in data. This is because python is a __weakly cast__ language. \n",
    "\n",
    "You are likely to encounter languages later on, such as java, that are __strongly cast__. In these languages you have to declar the type of a variable before you can use it. Python resolves a lot of that on the back end, but as a consequence it trusts the coder much more to pass around the right kind of variables. \n",
    "\n",
    "### Note. What about irrational numbers like $\\pi$ and repeatable numbers like 1/3? \n",
    "This is why we say floating point numbers are approximations of real numbers. $\\pi$ is a real number, but it is also infinitely non-repeating. The computer then cannot load the full number of $\\pi$ (as it does not have infinite memory), but it loads in an approximation. \n",
    "\n",
    "When we calulate things in python, we are accepting a certain loss of precision. It does not do fractional math.  But it is still pretty clever. For the most part we won't be worrying to much about precision, but it can come up. \n",
    "\n",
    "See the example below:"
   ]
  },
  {
   "cell_type": "code",
   "execution_count": 24,
   "metadata": {},
   "outputs": [
    {
     "name": "stdout",
     "output_type": "stream",
     "text": [
      "0.3333333333333333\n",
      "0.3333333333333333\n",
      "0.3333333333333333\n",
      "1.0\n"
     ]
    }
   ],
   "source": [
    "x = 1/3\n",
    "y = 1/3\n",
    "z = 1/3\n",
    "\n",
    "print(x)\n",
    "print(y)\n",
    "print(z)\n",
    "\n",
    "# Shouldn't this add up to 0.99999999999?\n",
    "print(x + y + z)"
   ]
  },
  {
   "cell_type": "code",
   "execution_count": 26,
   "metadata": {},
   "outputs": [
    {
     "name": "stdout",
     "output_type": "stream",
     "text": [
      "0.9999999999999996\n"
     ]
    }
   ],
   "source": [
    "# Python is very good at understanding the right level of precision. But it isn't perfect. \n",
    "# Fortunately, small errors rarely accumulate in this sort of work. See here:\n",
    "\n",
    "# EXERCISE - Try deleting just the last 3 from each of these and see what happens\n",
    "x = 0.3333333333333333\n",
    "y = 0.333333333333333\n",
    "z = 0.3333333333333333\n",
    "print(x + y + z)"
   ]
  },
  {
   "cell_type": "markdown",
   "metadata": {},
   "source": [
    "# Section 2. From characters to strings\n",
    "\n",
    "Strings, as we have now seen, are collections of characters. So we can now tell that:\n",
    "\n",
    "```\"This is a string\"```\n",
    "\n",
    "Formatting strings is one of the most common operations that is done in social data science. Whether it is text collected via communications, surveys, comments, or reviews, it will be a string and it will probably need formatting. This might involve changing everything to ALL CAPS, OR PERHAPS NOT BECAUSE YELLING IS NOT NICE. It might involve taking a collection of words and trimming the ends so that:\n",
    "\n",
    "~~~ python \n",
    "\"taking a bunch of words\"\n",
    "~~~\n",
    "\n",
    "becomes\n",
    "\n",
    "~~~ python\n",
    "['tak','a','bunch','word']\n",
    "~~~\n",
    "\n",
    "which is the root of these words for text processing. \n",
    "\n",
    "It might involve detecting emojis in text or looking for regularly formatted strings such as mario@example.com without knowing the exact characters ahead of time. What about making sure you can process strings of Chinese characters, or even languages such as Arabic and Hebrew that read from left to right? \n",
    "\n",
    "It turns out that the humble string is actually really complex. \n",
    "\n",
    "## Important notes on strings\n",
    "### Note 1. Strings have encodings. Use the wrong encoding and your characters will look funny. \n",
    "\n",
    "One of the earliest encodings in computing (in the West) was [ASCII](https://en.wikipedia.org/wiki/ASCII). This encoding had 128 characters including basic white space, punctuation, A-Z in upper and lower case, digits and a few system characters. This was later expanded to latin-1, which includes most characters derived in latin languages with accents and diacritics. But nowaways, many programs use Unicode. Where ASCII was stored in a single byte (this is a byte: 0000 0001, it's 8-bits though ASCII only needed 7 bits). By contrast, Unicode can have sepcific code points in a variety of bits from 8 bit to 32-bit. The most common is UTF-8, which can include every character set for every language and then some (including emoji). To learn more, see the [description from Wikipedia](https://en.wikipedia.org/wiki/UTF-8#Description). \n",
    "\n",
    "Python 3 is Unicode by default. Which is why we have no trouble doing something like: \n",
    "~~~ python \n",
    "print(\"Waves to class 👋!\")\n",
    "~~~ \n",
    "\n",
    "### Note 2. Strings are really a special kind of a list. \n",
    "\n",
    "We will learn more about lists next. But strings are just a special kind of list - one with only characters in the same encoding. This means we can do things with strings like we can with a list, like sort the strings, or ask for elements 3 through 10. But because strings are special, they have their own unique [methods](https://www.geeksforgeeks.org/difference-method-function-python/), like ```upper()``` which turns the lower-case letters to upper case.  \n",
    "\n"
   ]
  },
  {
   "cell_type": "code",
   "execution_count": 27,
   "metadata": {},
   "outputs": [
    {
     "name": "stdout",
     "output_type": "stream",
     "text": [
      "Waves to class 👋!\n"
     ]
    }
   ],
   "source": [
    "print(\"Waves to class 👋!\")"
   ]
  },
  {
   "cell_type": "markdown",
   "metadata": {},
   "source": [
    "## Common string methods\n",
    "- ```upper()```\n",
    " - _change to upper case_\n",
    "- ```lower()```\n",
    " - _change to lower case_\n",
    "- ```title()``` or ```capitalize()```\n",
    " - _capitalize the first word (note the z my Commonwealth friends)\n",
    "- ```find(input)```\n",
    " - _returns index of first instance of input_\n",
    "- ```isalnum()```\n",
    " - _is this string alphanumeric?_\n",
    "- ```isalpha()```\n",
    " - _is this string just letters?_\n",
    "- ```join(second_string)```\n",
    " - _combine these things into a single string_\n",
    "- ```replace(old_string,new_string)```\n",
    " - _find all instances of something and change to something else_\n",
    "- ```strip()```\n",
    " - _remove whitespace characters from a string (useful when reading in from a file)_\n",
    "\n",
    "## How to use a string method\n",
    "Methods and functions are the 'verbs' of Python. A method is basically a function except you invoke a method on an object. For now, it's okay to  use the terms interchangably, but the difference will be clear (and important) when we start building our own functions later. \n",
    "\n",
    "Since a string \n",
    "\n",
    "So if we have a string object\n",
    "\n",
    "~~~ python\n",
    "\"This is an object\"\n",
    "~~~\n",
    "\n",
    "And we attach the 'upper' method like so: \n",
    "\n",
    "~~~ python\n",
    "\"This is an object\".upper()\n",
    "~~~\n",
    "\n",
    "But more commonly we first assign a string to a variable then then invoke our method on the variable.\n",
    "\n",
    "~~~ python\n",
    "new_string = \"This is a new string\"\n",
    "print ( new_string.upper() )\n",
    "~~~\n",
    "\n",
    "Try it below:"
   ]
  },
  {
   "cell_type": "code",
   "execution_count": 32,
   "metadata": {},
   "outputs": [
    {
     "ename": "NameError",
     "evalue": "name 'test_string' is not defined",
     "output_type": "error",
     "traceback": [
      "\u001b[1;31m---------------------------------------------------------------------------\u001b[0m",
      "\u001b[1;31mNameError\u001b[0m                                 Traceback (most recent call last)",
      "\u001b[1;32m<ipython-input-32-0724a3a61696>\u001b[0m in \u001b[0;36m<module>\u001b[1;34m\u001b[0m\n\u001b[1;32m----> 1\u001b[1;33m \u001b[0mprint\u001b[0m\u001b[1;33m(\u001b[0m\u001b[0mtest_string\u001b[0m\u001b[1;33m)\u001b[0m\u001b[1;33m\u001b[0m\u001b[1;33m\u001b[0m\u001b[0m\n\u001b[0m",
      "\u001b[1;31mNameError\u001b[0m: name 'test_string' is not defined"
     ]
    }
   ],
   "source": [
    "del test_string\n",
    "\n",
    "print(test_string)"
   ]
  },
  {
   "cell_type": "code",
   "execution_count": 30,
   "metadata": {},
   "outputs": [
    {
     "name": "stdout",
     "output_type": "stream",
     "text": [
      "The original string:\n",
      "Nope\n",
      "\n",
      "To upper case:\n",
      "NOPE\n",
      "\n",
      "To lower case:\n",
      "nope\n",
      "\n",
      "Is the string just alpha numeric characters?\n",
      "True\n",
      "\n",
      "What happens when we replace each space with the word 'like' between two spaces?\n",
      "Nope\n"
     ]
    }
   ],
   "source": [
    "example_string = \"Nope\"\n",
    "\n",
    "print(\"The original string:\")\n",
    "print()\n",
    "\n",
    "print(\"\\nTo upper case:\")\n",
    "print(example_string.upper())\n",
    "\n",
    "print(\"\\nTo lower case:\")\n",
    "print(example_string.lower())\n",
    "\n",
    "print(\"\\nIs the string just alpha numeric characters?\")\n",
    "print(example_string.isalnum())\n",
    "\n",
    "print(\"\\nWhat happens when we replace each space with the word 'like' between two spaces?\")\n",
    "print(example_string.replace(\" \",\"_like_\"))"
   ]
  },
  {
   "cell_type": "markdown",
   "metadata": {},
   "source": [
    "# Section 3. The ordered collection - The List"
   ]
  },
  {
   "cell_type": "markdown",
   "metadata": {},
   "source": [
    "There are many kinds of collections. We will only be covering two of the most important ones today, but over the term you will be introduced to others such as The Set, The Series, The Tuple. But first it's the humble List. \n",
    "\n",
    "Lists are ordered collections of objects. They, like most British buildings, start at 0. The next element is 1 and so forth. \n",
    "\n",
    "Lists use square brackets as ends. So a list looks like: \n",
    "\n",
    "~~~ python\n",
    "list_example = [\"apples\",\"bananas\",\"cucumbers\",\"durians\"]\n",
    "~~~\n",
    "\n",
    "And to return an element, we can use the index, like so:\n",
    "~~~ python \n",
    "print( list_example[0] ) \n",
    "> apples\n",
    "~~~\n",
    "\n",
    "We can also count backwards through the list using negative numbers, like so:\n",
    "\n",
    "~~~ python \n",
    "print( list_example[-1] ) \n",
    "> durians \n",
    "~~~\n",
    "\n",
    "Try below:"
   ]
  },
  {
   "cell_type": "code",
   "execution_count": 38,
   "metadata": {},
   "outputs": [
    {
     "name": "stdout",
     "output_type": "stream",
     "text": [
      "apples\n",
      "bananas\tbananas\n",
      "cucumbers\n"
     ]
    }
   ],
   "source": [
    "list_example = [\"apples\",\"bananas\",\"cucumbers\",\"durians\"]\n",
    "\n",
    "print( list_example[0] ) \n",
    "\n",
    "print( list_example[1] + ' ' + list_example[1] ) \n",
    "\n",
    "print( list_example[-2] ) "
   ]
  },
  {
   "cell_type": "markdown",
   "metadata": {},
   "source": [
    "Lists have a __range__ that goes from 0 to n-1 where n is the number of elements. If you try to index an element that's out of the range, python will throw an error. To get the range, we can use a function called ```len``` which is short for __length__. \n",
    "\n",
    "Notice what we do below. We get the length, then use that as a variable. It will give us an error, but length minus one won't. "
   ]
  },
  {
   "cell_type": "code",
   "execution_count": 39,
   "metadata": {},
   "outputs": [
    {
     "name": "stdout",
     "output_type": "stream",
     "text": [
      "['apples', 'bananas', 'cucumbers', 'durians']\n"
     ]
    }
   ],
   "source": [
    "print(list_example)"
   ]
  },
  {
   "cell_type": "code",
   "execution_count": 40,
   "metadata": {},
   "outputs": [
    {
     "name": "stdout",
     "output_type": "stream",
     "text": [
      "The list has 4 elements\n"
     ]
    }
   ],
   "source": [
    "list_length = len(list_example)\n",
    "\n",
    "# If the code gives an error, the comment this line immediately below and uncomment the lower line. \n",
    "print(\"The list has\", list_length, \"elements\")"
   ]
  },
  {
   "cell_type": "code",
   "execution_count": 42,
   "metadata": {},
   "outputs": [
    {
     "name": "stdout",
     "output_type": "stream",
     "text": [
      "durians\n"
     ]
    }
   ],
   "source": [
    "# This is the line that I will not print\n",
    "# print( list_example[list_length] )\n",
    "\n",
    "print( list_example[list_length -1] )"
   ]
  },
  {
   "cell_type": "markdown",
   "metadata": {},
   "source": [
    "## Jupyter Tip: Comments\n",
    "\n",
    "To quickly comment or uncomment a line you can press $ctrl + /$ (forward slash)"
   ]
  },
  {
   "cell_type": "code",
   "execution_count": null,
   "metadata": {},
   "outputs": [],
   "source": [
    "# comment / uncomment using ctrl + /  to make test_commenting worth 1 rather than 42.\n",
    "# test_commenting = 42\n",
    "# test_commenting = 1\n",
    "print( test_commenting )"
   ]
  },
  {
   "cell_type": "markdown",
   "metadata": {},
   "source": [
    "## List indexing and slicing\n",
    "\n",
    "We do not simply index just one element of a list at a time. We can actually index entire chunks of elements at once using the ```:``` inside of the ```[]```. For example, with a four element list we can print elements 0 through two:\n",
    "\n",
    "~~~ python \n",
    "list_example = [\"apples\",\"bananas\",\"cucumbers\",\"durians\"]\n",
    "print( list_example[0:2] ) \n",
    "~~~\n",
    "\n"
   ]
  },
  {
   "cell_type": "code",
   "execution_count": 44,
   "metadata": {},
   "outputs": [
    {
     "name": "stdout",
     "output_type": "stream",
     "text": [
      "['apples', 'bananas', 'cucumbers', 'durians', 'elderberry', 'fruity mcfruit']\n"
     ]
    }
   ],
   "source": [
    "list_example = [\"apples\",\"bananas\",\"cucumbers\",\"durians\"]\n",
    "list_2 = [\"elderberry\",\"fruity mcfruit\"]\n",
    "\n",
    "print(list_example + list_2)\n",
    "\n",
    "list_3 = list_example + list_2"
   ]
  },
  {
   "cell_type": "code",
   "execution_count": 45,
   "metadata": {},
   "outputs": [
    {
     "name": "stdout",
     "output_type": "stream",
     "text": [
      "['apples', 'bananas', 'cucumbers']\n",
      "['durians']\n",
      "['apples', 'bananas', 'cucumbers', 'durians', 'elderberry', 'fruity mcfruit']\n"
     ]
    }
   ],
   "source": [
    "print( list_3[0:3] ) \n",
    "print( list_3[3:4] ) \n",
    "print( list_3 ) "
   ]
  },
  {
   "cell_type": "markdown",
   "metadata": {},
   "source": [
    "The first number is the list index for the element we start. The second number is the index that we get up to, but not including. So for example, ```list_example[0:2]``` and ```list_example[2:4]``` will not return overlapping lists. \n",
    "\n",
    "Yet, we can also slice lists __from the end__ rather than the front of the list by using negative numbers. -1 is the final element, and :-1 will give us everything up to the final element. "
   ]
  },
  {
   "cell_type": "code",
   "execution_count": 47,
   "metadata": {},
   "outputs": [
    {
     "name": "stdout",
     "output_type": "stream",
     "text": [
      "['bananas', 'cucumbers', 'durians', 'elderberry']\n",
      "ist_of_character\n"
     ]
    }
   ],
   "source": [
    "list_example = [\"apples\",\"bananas\",\"cucumbers\",\"durians\"]\n",
    "#print( list_example[0:-1] ) \n",
    "\n",
    "print( list_3[1:-1] ) \n",
    "\n",
    "a_string = 'list_of_characters'\n",
    "print( a_string[1:-1] ) "
   ]
  },
  {
   "cell_type": "code",
   "execution_count": 48,
   "metadata": {},
   "outputs": [
    {
     "name": "stdout",
     "output_type": "stream",
     "text": [
      "[1, 'a', 'htselurrthser', 1.0, [1, 2]]\n"
     ]
    }
   ],
   "source": [
    "crazy_list = [ 1, 'a', 'htselurrthser', 1.0, [1,2] ]\n",
    "\n",
    "print(crazy_list)"
   ]
  },
  {
   "cell_type": "markdown",
   "metadata": {},
   "source": [
    "## Adding data to a list (and adding two lists together)\n",
    "\n",
    "Lists are __mutable__ meaning that they can be changed by the program. Other data structures we will encounter later are __immutable__ which means that we can only create or destroy them but not change them. To change a list with methdos, we can:\n",
    "\n",
    "- Add things: \n",
    "    - One at a time: __Append__ an item to the end of the list with ```list.append(item)``` \n",
    "    - Adding any collection: __extend__ a list with the items from any __iterable__ collection with ```list1.extend(list2)```, more on iteration tomorrow. \n",
    "- Remove things: \n",
    "    - Remove everything with __clear__: Want to keep the name but empty the list? ```list1.clear()```\n",
    "    - Removing one item by index: __pop__ a value from the list. By default it is the final element, but you can pass an index to pop an element anywhere in the list. ```list.pop()``` or ```list.pop(4)```. This is the same as __del__ before the list, like ```__del list1[-1]``` or ```del list[4]``` except that deleting doesn't return the things you deleted whereas pop does. \n",
    "    - Remove an item by its value: __remove__ the first instance of a value in the list with ```list.remove(\"item\")```.\n",
    "- Sort things\n",
    "    - __sort__ the list in place with ```list.sort()```.\n",
    "    \n",
    "### Note. Some methods change things in place rather than return new things.\n",
    "Most of the time when we call a method we expect it to return something. A method called upper() returns the string in upper case, for example. It might be confusing (it sure has been to me at times), but sometimes methods just alter the state of an object rather than returning a new object. The list methods mentioned above all change the list in place. So you would not say: \n",
    "\n",
    "~~~ py\n",
    "list1 = list1.extend(list2) \n",
    "~~~\n",
    "\n",
    "Because while ```extend()``` changes ```list1``` it does not _return_ ```list1```. You can test this below by printing what is returned from the list.   "
   ]
  },
  {
   "cell_type": "code",
   "execution_count": 52,
   "metadata": {},
   "outputs": [
    {
     "name": "stdout",
     "output_type": "stream",
     "text": [
      "3\n"
     ]
    }
   ],
   "source": [
    "# Take 1. Extending a list - it returns none. \n",
    "list1 = [1,2,3]\n",
    "list2 = [4,5,6]\n",
    "\n",
    "print( list1.extend(list2) )"
   ]
  },
  {
   "cell_type": "code",
   "execution_count": 61,
   "metadata": {},
   "outputs": [
    {
     "name": "stdout",
     "output_type": "stream",
     "text": [
      "[1, 2, 3, [4, 5, 6]]\n"
     ]
    }
   ],
   "source": [
    "#Take 2. Extending a list - print the old, freshly extended list. \n",
    "list1 = [1,2,3]\n",
    "list2 = [4,5,6]\n",
    "\n",
    "list1.extend( [list2] )\n",
    "print(list1)"
   ]
  },
  {
   "cell_type": "code",
   "execution_count": 66,
   "metadata": {},
   "outputs": [
    {
     "name": "stdout",
     "output_type": "stream",
     "text": [
      "[1, 2, 3, [4, 5, 6]]\n"
     ]
    }
   ],
   "source": [
    "list1 = [1,2,3]\n",
    "list4 = [[4,5,6]]\n",
    "\n",
    "print( list1 + list4 )"
   ]
  },
  {
   "cell_type": "markdown",
   "metadata": {},
   "source": [
    "Here are the other list methods in action. \n",
    "\n",
    "Notice that we create a new list before each method so that we can see exactly how the lists interact with the method. "
   ]
  },
  {
   "cell_type": "code",
   "execution_count": 59,
   "metadata": {},
   "outputs": [
    {
     "name": "stdout",
     "output_type": "stream",
     "text": [
      "Original:\t [1, 2, 3]\n",
      "[1, 2, 3, [1, 2, 3, 4, 5]]\n"
     ]
    }
   ],
   "source": [
    "# Append\n",
    "list1 = [1,2,3]\n",
    "new_val = [1,2,3,4,5]\n",
    "\n",
    "print(\"Original:\\t\", list1)\n",
    "\n",
    "list1.append(new_val)\n",
    "\n",
    "#print(\"Appended:\\t\",list1)\n",
    "print(list1)"
   ]
  },
  {
   "cell_type": "code",
   "execution_count": 57,
   "metadata": {},
   "outputs": [
    {
     "name": "stdout",
     "output_type": "stream",
     "text": [
      "[1, 2, 3, 4, 71]\n"
     ]
    }
   ],
   "source": [
    "#a_very_long_name_list1 = a_very_long_name_list1 + [ 71 ]\n",
    "\n",
    "a_very_long_name_list1 = [ 1, 2, 3, 4 ]\n",
    "\n",
    "a_very_long_name_list1 += [ 71 ]\n",
    "\n",
    "print(a_very_long_name_list1)"
   ]
  },
  {
   "cell_type": "code",
   "execution_count": null,
   "metadata": {},
   "outputs": [],
   "source": [
    "# Extend\n",
    "list1 = [1,2,3]\n",
    "list2 = [4,5,6]\n",
    "\n",
    "print(\"Original:\\t\", list1)\n",
    "\n",
    "list1.extend(list2)\n",
    "\n",
    "print(\"Extended:\\t\", list1)"
   ]
  },
  {
   "cell_type": "code",
   "execution_count": 67,
   "metadata": {},
   "outputs": [
    {
     "name": "stdout",
     "output_type": "stream",
     "text": [
      "Original:\t [1, 2, 3]\n",
      "Cleared:\t []\n"
     ]
    }
   ],
   "source": [
    "# Clear\n",
    "list1 = [1,2,3]\n",
    "\n",
    "print(\"Original:\\t\",list1)\n",
    "\n",
    "list1.clear()\n",
    "\n",
    "print(\"Cleared:\\t\", list1)"
   ]
  },
  {
   "cell_type": "code",
   "execution_count": 68,
   "metadata": {},
   "outputs": [
    {
     "name": "stdout",
     "output_type": "stream",
     "text": [
      "Original:\t\t [1, 2, 3]\n",
      "Popped (index 2):\t [1, 2]\n",
      "Popped value:\t\t 3\n"
     ]
    }
   ],
   "source": [
    "# Pop\n",
    "list1 = [1,2,3]\n",
    "\n",
    "print(\"Original:\\t\\t\", list1)\n",
    "\n",
    "x = list1.pop(2)\n",
    "\n",
    "print(\"Popped (index 2):\\t\", list1)\n",
    "print(\"Popped value:\\t\\t\", x)"
   ]
  },
  {
   "cell_type": "code",
   "execution_count": 69,
   "metadata": {},
   "outputs": [
    {
     "name": "stdout",
     "output_type": "stream",
     "text": [
      "Original:\t\t [0, 54, 31, 5, 77, -3]\n",
      "Deleted last two:\t [0, 54, 31, 5]\n"
     ]
    }
   ],
   "source": [
    "# Del\n",
    "list1 = [0,54,31,5,77,-3]\n",
    "\n",
    "print(\"Original:\\t\\t\", list1)\n",
    "\n",
    "del list1[-2:]\n",
    "\n",
    "print(\"Deleted last two:\\t\", list1)"
   ]
  },
  {
   "cell_type": "code",
   "execution_count": 75,
   "metadata": {},
   "outputs": [
    {
     "name": "stdout",
     "output_type": "stream",
     "text": [
      "Intact:\t\t [10, 20, 30, [20, 20, 21]]\n"
     ]
    },
    {
     "ename": "ValueError",
     "evalue": "list.remove(x): x not in list",
     "output_type": "error",
     "traceback": [
      "\u001b[1;31m---------------------------------------------------------------------------\u001b[0m",
      "\u001b[1;31mValueError\u001b[0m                                Traceback (most recent call last)",
      "\u001b[1;32m<ipython-input-75-d6b5c52e86d3>\u001b[0m in \u001b[0;36m<module>\u001b[1;34m\u001b[0m\n\u001b[0;32m      5\u001b[0m \u001b[1;33m\u001b[0m\u001b[0m\n\u001b[0;32m      6\u001b[0m \u001b[0mlist1\u001b[0m\u001b[1;33m.\u001b[0m\u001b[0mremove\u001b[0m\u001b[1;33m(\u001b[0m\u001b[1;36m20\u001b[0m\u001b[1;33m)\u001b[0m\u001b[1;33m\u001b[0m\u001b[1;33m\u001b[0m\u001b[0m\n\u001b[1;32m----> 7\u001b[1;33m \u001b[0mlist1\u001b[0m\u001b[1;33m.\u001b[0m\u001b[0mremove\u001b[0m\u001b[1;33m(\u001b[0m\u001b[1;36m20\u001b[0m\u001b[1;33m)\u001b[0m\u001b[1;33m\u001b[0m\u001b[1;33m\u001b[0m\u001b[0m\n\u001b[0m\u001b[0;32m      8\u001b[0m \u001b[1;33m\u001b[0m\u001b[0m\n\u001b[0;32m      9\u001b[0m \u001b[0mprint\u001b[0m\u001b[1;33m(\u001b[0m\u001b[1;34m\"Removed '20':\\t\"\u001b[0m\u001b[1;33m,\u001b[0m \u001b[0mlist1\u001b[0m\u001b[1;33m)\u001b[0m\u001b[1;33m\u001b[0m\u001b[1;33m\u001b[0m\u001b[0m\n",
      "\u001b[1;31mValueError\u001b[0m: list.remove(x): x not in list"
     ]
    }
   ],
   "source": [
    "# Remove\n",
    "list1 = [10,20,30,[20,20,21]]\n",
    "\n",
    "print(\"Intact:\\t\\t\", list1)\n",
    "\n",
    "list1.remove(20)\n",
    "list1.remove(20)\n",
    "\n",
    "print(\"Removed '20':\\t\", list1)"
   ]
  },
  {
   "cell_type": "code",
   "execution_count": 79,
   "metadata": {},
   "outputs": [
    {
     "name": "stdout",
     "output_type": "stream",
     "text": [
      "Unsorted:\t [7, 3, 1, 2, 3, 4]\n",
      "Sorted:\t\t [1, 2, 3, 3, 4, 7]\n"
     ]
    }
   ],
   "source": [
    "# Sort\n",
    "list3 = [7,3,1,2,3,4]\n",
    "\n",
    "print(\"Unsorted:\\t\", list3)\n",
    "\n",
    "list4 = sorted(list3)\n",
    "\n",
    "print(\"Sorted:\\t\\t\", list4)"
   ]
  },
  {
   "cell_type": "markdown",
   "metadata": {},
   "source": [
    "# Section 4. The unordered collection - The Dictionary"
   ]
  },
  {
   "cell_type": "markdown",
   "metadata": {},
   "source": [
    "A dictionary is a data structure with key-value pairs. Like a dictionary, where the word would be the key and the definition would be the value. \n",
    "\n",
    "__programming__ \n",
    "\n",
    "&nbsp;&nbsp;&nbsp;&nbsp;5 __b.__ _intr._ To write a computer program; to supply a computer or other device with a program.\n",
    "\n",
    "In this case, programming would be the __key__ and \"5. b. _intr._ To write...\" would be the __value__. Dictionaries in python are written with curly braces, ```{}```. Inside, the key and the value are separated by a ```:``` and items are seprated by a comma like so: \n",
    "\n",
    "~~~ python \n",
    "example_dict = { key1:value1, key2:value2, key3:value3 }\n",
    "\n",
    "example_newline_dict = { \n",
    "    key1:value1,\n",
    "    key2:value2,\n",
    "    key3:value3\n",
    "}\n",
    "~~~\n",
    "\n",
    "To add a new key-value pair you assign it like so:\n",
    "\n",
    "~~~ python \n",
    "new_dict = {} \n",
    "\n",
    "new_dict['lunch'] = \"omelette\"\n",
    "new_dict['dinner'] = \"stir-fry\" \n",
    "~~~\n",
    "\n",
    "Now you can check it by querying. You can query by: \n",
    "- keys:  ```new_dict.keys()```\n",
    "- values:  ```new_dict.values()```\n",
    "- items (key-value pairs):  ```new_dict.items()```\n",
    "\n",
    "Below are some exercises with dictionaries. \n"
   ]
  },
  {
   "cell_type": "code",
   "execution_count": 80,
   "metadata": {},
   "outputs": [],
   "source": [
    "new_dict = {\"salmon\":\"fish\",\n",
    "            \"shitake\":\"mushroom\"\n",
    "           }\n",
    "\n",
    "new_dict[\"apple\"] = \"fruit\"\n",
    "new_dict[\"potato\"] = \"vegetable\"\n",
    "new_dict[\"tomato\"] = \"who knows\""
   ]
  },
  {
   "cell_type": "code",
   "execution_count": 81,
   "metadata": {},
   "outputs": [
    {
     "name": "stdout",
     "output_type": "stream",
     "text": [
      "{'salmon': 'fish', 'shitake': 'mushroom', 'apple': 'fruit', 'potato': 'vegetable', 'tomato': 'who knows'}\n"
     ]
    }
   ],
   "source": [
    "print(new_dict)"
   ]
  },
  {
   "cell_type": "code",
   "execution_count": 87,
   "metadata": {},
   "outputs": [
    {
     "name": "stdout",
     "output_type": "stream",
     "text": [
      "['salmon', 'shitake', 'apple', 'potato', 'tomato', 1, 2, 3]\n"
     ]
    }
   ],
   "source": [
    "L = list(new_dict.keys())\n",
    "\n",
    "print( L + [ 1, 2, 3 ] )"
   ]
  },
  {
   "cell_type": "code",
   "execution_count": 83,
   "metadata": {},
   "outputs": [
    {
     "name": "stdout",
     "output_type": "stream",
     "text": [
      "dict_values(['fish', 'mushroom', 'fruit', 'vegetable', 'who knows'])\n"
     ]
    }
   ],
   "source": [
    "print(new_dict.values())"
   ]
  },
  {
   "cell_type": "markdown",
   "metadata": {},
   "source": [
    "## Important notes on dictionaries\n",
    "\n",
    "### Note 1. Dictionaries are not ordered, even if it seems like it. \n",
    "Chances are the above example printed the items in the order that you entered them in the dictionary. But this is not always the case, especially for large dictionaries. This is because dictionaries use a technique called __hashing__, whereby the map the values directly on to values in memory. So when you pass it a key it knows exactly the area of memory to look for the value. This is as fast as it gets fo retrieval. It's different for say finding a value in a list. The list has to read through all the values to get to the one you are looking for. This ability to directly access a value regardless of it's location. It is the same principle as __Random Access Memory__.  The problem is, it can't preserve both the order and the property of random memory access. So we have lists which are ordered and  dictionaries which are fast. \n",
    "\n",
    "Some programs, like ```javascript``` have the notion of an __associative array__ which has both an order and can be accessed by random access. Python does not natively have such a feature, but as we will see later, we can use a __series__ to accomplish precisely this (ordered and random acccess)."
   ]
  },
  {
   "cell_type": "markdown",
   "metadata": {},
   "source": [
    "### Note. Assigning a new value to a key replaces the old value. \n",
    "\n",
    "Python is, as we will discover again and again, very trusting of the coder. If you want to delete files or change variables that's all available. With dictionaries if you have a value already for a key and you assign a new value, the old one disappears, lost to the void, irretrievable. Let's banish some values: "
   ]
  },
  {
   "cell_type": "code",
   "execution_count": 1,
   "metadata": {},
   "outputs": [
    {
     "name": "stdout",
     "output_type": "stream",
     "text": [
      "{'Mario': ['itsamemario@email.com'], 'Koopa': ['koopatroopa@email.com']}\n",
      "\n",
      "['bowser@something.com', 'evilbowser@email.com']\n"
     ]
    }
   ],
   "source": [
    "new_dict = {\n",
    "    \"Mario\"   : [\"itsamemario@email.com\"],\n",
    "    \"Koopa\"   : [\"koopatroopa@email.com\"]\n",
    "}\n",
    "\n",
    "print(new_dict)\n",
    "\n",
    "# Changing an entry\n",
    "new_dict[\"Bowser\"] = [ \"bowser@something.com\", \"evilbowser@email.com\" ]\n",
    "\n",
    "print()\n",
    "\n",
    "print(new_dict['Bowser'])"
   ]
  },
  {
   "cell_type": "markdown",
   "metadata": {},
   "source": [
    "### Note. Dictionaries and lists can be nested inside each other. \n",
    "\n",
    "It turns out that a pretty substantial amount of data on the web is really just a series of nested lists and dictionaries. This is actually the basis of an extremely common file type called __'json'__ (javascript object notation). When Twitter, Facebook or Reddit sends data to the client it is typically formatted as json. So this means that if you understand how lists and dictionaries can be used together you are well on your way to discovering how to capture and wrangle data from the web. \n",
    "\n",
    "See the example for a dictionary nested in a list nested in a dictionary.\n",
    "\n",
    "Here's the motivation. I have three coworkers and I have to order food for them every day. One order for lunch and one for dinner. We willl create a dictionary with two items, a lunch order and a dinner order. Each order will have a list of coworkers. Each coworker will have an order with custom toppings.\n"
   ]
  },
  {
   "cell_type": "code",
   "execution_count": 95,
   "metadata": {},
   "outputs": [],
   "source": [
    "food_order = {\n",
    "    'lunch':[ \n",
    "            { 'name':'Mario',\n",
    "              'order':{\n",
    "                        'Main':'rice and beans',\n",
    "                        'Side':'salad',\n",
    "                        'Drink':'orange juice'\n",
    "                      }\n",
    "            },\n",
    "            { 'name':'Koopa',\n",
    "              'order':{\n",
    "                        'Main':'pancakes',\n",
    "                        'Side':'honey',\n",
    "                        'Drink':'coffee'\n",
    "                      }\n",
    "            }      \n",
    "      ],\n",
    "    'dinner':[\n",
    "             { 'name':'Mario',\n",
    "               'order':{\n",
    "                        'Main':'burger',\n",
    "                        'Side':'onion rings',\n",
    "                        'Drink':'beer'\n",
    "                      }\n",
    "             },\n",
    "             { 'name':'Bowser',\n",
    "               'order':{\n",
    "                        'Main':'pizza',\n",
    "                        'Side': None,\n",
    "                        'Drink':'cola'\n",
    "                      }\n",
    "             }      \n",
    "            ]\n",
    "} "
   ]
  },
  {
   "cell_type": "code",
   "execution_count": 108,
   "metadata": {},
   "outputs": [
    {
     "name": "stdout",
     "output_type": "stream",
     "text": [
      "rice and beans\n"
     ]
    }
   ],
   "source": [
    "# print(food_order.keys())\n",
    "x = food_order['lunch']\n",
    "\n",
    "print(x[0]['order']['Main'])"
   ]
  },
  {
   "cell_type": "code",
   "execution_count": null,
   "metadata": {},
   "outputs": [],
   "source": [
    "print()\n",
    "print(food_order['lunch'][1]['name'])\n",
    "print()\n",
    "print(food_order['lunch'][1]['order']['Main'])"
   ]
  }
 ],
 "metadata": {
  "kernelspec": {
   "display_name": "Python 3",
   "language": "python",
   "name": "python3"
  },
  "language_info": {
   "codemirror_mode": {
    "name": "ipython",
    "version": 3
   },
   "file_extension": ".py",
   "mimetype": "text/x-python",
   "name": "python",
   "nbconvert_exporter": "python",
   "pygments_lexer": "ipython3",
   "version": "3.8.8"
  }
 },
 "nbformat": 4,
 "nbformat_minor": 2
}
