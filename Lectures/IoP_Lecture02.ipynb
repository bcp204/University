{
 "cells": [
  {
   "cell_type": "code",
   "execution_count": null,
   "metadata": {},
   "outputs": [],
   "source": [
    "# Summary from the last class: lines starting with a # are comments\n",
    "\n",
    "an_integer_number = 1\n",
    "a_float = 0.33\n",
    "\n",
    "a_string_of_characters = 'abcd'\n",
    "another_string         = \"dcba\"\n",
    "\n",
    "my_list = [ \"apple\", \"banana\", \"coconut\", \"durian\" ]\n",
    "\n",
    "my_dictionary = {\n",
    "                  \"apple\":\"red\",\n",
    "                  \"banana\":\"yellow\",\n",
    "                  \"cherry\":\"red\",\n",
    "                  \"durian\":\"varies\"\n",
    "                }\n"
   ]
  },
  {
   "cell_type": "markdown",
   "metadata": {},
   "source": [
    "# Learning Python: Iterations and control statements\n",
    "\n",
    "# Section 1. For Loops\n",
    "\n",
    "Last time we ended on collections. Often times we want to do something with every element in a collection. To do this we __iterate__ over a collection. To iterate means to start at the beginning of a collection, do something with the first value, then continue until we run out of values. Even though a dictionary is not ordered, it is still iterable, we just don't know the order in which we will iterate. \n",
    "\n",
    "We can imagine iterating over a list and then transforming the values in that list. Imagine you have a list of words and you want to find out the average word length ( $\\bar{x}$, the __arithmetic mean__). You would first sum ( $\\sum$ ) all the words $w$ and then divide this sum by the number of words $n$. In formulae we would say you sum all the elements: \n",
    "\n",
    "$$\\bar{x} = \\frac{1}{n}\\sum_{i=1}^{n} w_i $$\n",
    "\n",
    "In this case, that big letter $\\sum$ means add all the things afterwards in the specified range. The range is specified on the top (in this case $n$ or the number of words). The i = 1 means that we start from the first word. \n",
    "\n",
    "Now we can translate this into computer code:\n",
    "\n",
    "\n",
    "~~~ python\n",
    "words = [\"apple\",\"banana\",\"chocolate\",\"dumpling\"]\n",
    "\n",
    "word_length_sum = 0\n",
    "\n",
    "for i in words:\n",
    "    word_length_sum += len(i) # notice we use += here. We'll explain it in a bit.\n",
    "    \n",
    "n = len(words) \n",
    "\n",
    "average_length = word_length_sum / n\n",
    "~~~ \n",
    "\n",
    "Above, the ```for i in words:``` is what defines the loop. It's pretty similar to English. ```i``` is our iterator. We could have named it anything, but traditionally when you don't care what your iterator is called, we use ```i``` for the first loop, ```j``` for an inner loop and ```k``` for a third inner loop. More than three inner loops and you really should rethink your program design. \n",
    "\n",
    "You can notice that ```i``` and ```words``` are variables because they are not given special colors. These colors help us understand which words are system words and which words are user-defined.  This is called __syntax highlighting__. \n",
    "\n",
    "We also use a shortcut above. Recall that in the past we have seen \n",
    "\n",
    "~~~ python \n",
    "result = x + y\n",
    "~~~\n",
    "\n",
    "But if we wanted to add something to an existing variable, like when we add some numbers to a ```total```, we can do this: \n",
    "\n",
    "~~~ python\n",
    "total += y \n",
    "~~~ \n",
    "\n",
    "This is sometimes called __syntactic sugar__ as it is just a way to simplify code. In some languages, there's additional idiom of saying ```x++``` for ```x += 1```. This is where C++ gets its name. Python doesn't have this feature. It's just ```x += 1``` for us. However, later we will see some very clever syntactic sugar in python...all in due course. \n",
    "\n",
    "Below we will practice the concept of a loop and see some of its features. "
   ]
  },
  {
   "cell_type": "code",
   "execution_count": 4,
   "metadata": {},
   "outputs": [
    {
     "name": "stdout",
     "output_type": "stream",
     "text": [
      "7.0\n"
     ]
    }
   ],
   "source": [
    "# As a matter of style I like to define variables before doing my loops. \n",
    "\n",
    "food_list = [\"apple\",\"banana\",\"chocolate\",\"dumpling\"]\n",
    "\n",
    "word_length_sum = 0\n",
    "\n",
    "n = len(food_list) \n",
    "\n",
    "for j in food_list:\n",
    "    word_length_sum += len(j) \n",
    "\n",
    "average_length = word_length_sum / n\n",
    "\n",
    "print(average_length)"
   ]
  },
  {
   "cell_type": "markdown",
   "metadata": {},
   "source": [
    "## Question: But what if I wanted to iterate over all elements, and print them?"
   ]
  },
  {
   "cell_type": "code",
   "execution_count": 18,
   "metadata": {},
   "outputs": [
    {
     "name": "stdout",
     "output_type": "stream",
     "text": [
      "apple\n",
      "banana\n",
      "chocolate\n",
      "dumpling\n"
     ]
    }
   ],
   "source": [
    "for foodname in food_list:\n",
    "    print(foodname)"
   ]
  },
  {
   "cell_type": "code",
   "execution_count": 15,
   "metadata": {},
   "outputs": [
    {
     "name": "stdout",
     "output_type": "stream",
     "text": [
      "4\n"
     ]
    }
   ],
   "source": [
    "foodname = 2+2\n",
    "print(foodname)"
   ]
  },
  {
   "cell_type": "markdown",
   "metadata": {},
   "source": [
    "## Iterating through a dictionary\n",
    "\n",
    "It's pretty obvious how you iterate through a list. One element after the other. But dictionaries have keys and values. What are you iterating over then? It depends on what you ask of python. Try the default: "
   ]
  },
  {
   "cell_type": "code",
   "execution_count": 19,
   "metadata": {},
   "outputs": [
    {
     "name": "stdout",
     "output_type": "stream",
     "text": [
      "salmon\n",
      "enoki\n",
      "apple\n",
      "potato\n"
     ]
    }
   ],
   "source": [
    "# You can also write dictionaries in many lines, to make it easier to read. Look!\n",
    "\n",
    "food_dict = {'salmon': 'fish',\n",
    "             'enoki':  'mushroom',\n",
    "             'apple':  'fruit',\n",
    "             'potato': 'vegetable'}\n",
    "\n",
    "for something in food_dict:\n",
    "    print(something)\n"
   ]
  },
  {
   "cell_type": "code",
   "execution_count": 21,
   "metadata": {},
   "outputs": [
    {
     "data": {
      "text/plain": [
       "dict_values(['fish', 'mushroom', 'fruit', 'vegetable'])"
      ]
     },
     "execution_count": 21,
     "metadata": {},
     "output_type": "execute_result"
    }
   ],
   "source": [
    "food_dict.values()"
   ]
  },
  {
   "cell_type": "markdown",
   "metadata": {},
   "source": [
    "That's not really what we wanted. Let's try to list the keys instead, and then print the value corresponding to each key."
   ]
  },
  {
   "cell_type": "code",
   "execution_count": 11,
   "metadata": {},
   "outputs": [
    {
     "data": {
      "text/plain": [
       "['potato', 'salmon', 'apple', 'enoki']"
      ]
     },
     "execution_count": 11,
     "metadata": {},
     "output_type": "execute_result"
    }
   ],
   "source": [
    "list( food_dict.keys() )"
   ]
  },
  {
   "cell_type": "code",
   "execution_count": 27,
   "metadata": {},
   "outputs": [
    {
     "name": "stdout",
     "output_type": "stream",
     "text": [
      "['salmon', 'enoki', 'apple', 'potato']\n"
     ]
    }
   ],
   "source": [
    "food_list = list( food_dict.keys() )\n",
    "\n",
    "print(food_list)"
   ]
  },
  {
   "cell_type": "code",
   "execution_count": 30,
   "metadata": {},
   "outputs": [
    {
     "name": "stdout",
     "output_type": "stream",
     "text": [
      "salmon -----> fish\n",
      "enoki -----> mushroom\n",
      "apple -----> fruit\n",
      "potato -----> vegetable\n"
     ]
    }
   ],
   "source": [
    "for k in food_list:\n",
    "    print( k,  '----->', food_dict[k] )"
   ]
  },
  {
   "cell_type": "markdown",
   "metadata": {},
   "source": [
    "It appears it printed the keys. Now it seems that we can print the values by using ```food_dict.values()``` or the complete items (i.e., key-value pairs) by using ```food_dict.items()```. Observe: "
   ]
  },
  {
   "cell_type": "code",
   "execution_count": 23,
   "metadata": {},
   "outputs": [
    {
     "name": "stdout",
     "output_type": "stream",
     "text": [
      "salmon\n",
      "enoki\n",
      "apple\n",
      "potato\n"
     ]
    }
   ],
   "source": [
    "food_dict = {'salmon': 'fish',\n",
    "             'enoki':  'mushroom',\n",
    "             'apple':  'fruit',\n",
    "             'potato': 'vegetable'}\n",
    "\n",
    "for x in food_dict.keys():\n",
    "    print(x)"
   ]
  },
  {
   "cell_type": "code",
   "execution_count": 25,
   "metadata": {},
   "outputs": [
    {
     "data": {
      "text/plain": [
       "dict_values(['fish', 'mushroom', 'fruit', 'vegetable'])"
      ]
     },
     "execution_count": 25,
     "metadata": {},
     "output_type": "execute_result"
    }
   ],
   "source": [
    "food_dict.values()"
   ]
  },
  {
   "cell_type": "code",
   "execution_count": 26,
   "metadata": {},
   "outputs": [
    {
     "name": "stdout",
     "output_type": "stream",
     "text": [
      "\n",
      "fish\n",
      "mushroom\n",
      "fruit\n",
      "vegetable\n"
     ]
    }
   ],
   "source": [
    "print() # just so I have an empty line between them\n",
    "\n",
    "for x in food_dict.values():\n",
    "    print(x)"
   ]
  },
  {
   "cell_type": "code",
   "execution_count": 31,
   "metadata": {},
   "outputs": [
    {
     "name": "stdout",
     "output_type": "stream",
     "text": [
      "('salmon', 'fish')\n",
      "('enoki', 'mushroom')\n",
      "('apple', 'fruit')\n",
      "('potato', 'vegetable')\n"
     ]
    }
   ],
   "source": [
    "for x in food_dict.items():\n",
    "    print(x)"
   ]
  },
  {
   "cell_type": "code",
   "execution_count": null,
   "metadata": {},
   "outputs": [],
   "source": []
  },
  {
   "cell_type": "code",
   "execution_count": 36,
   "metadata": {},
   "outputs": [
    {
     "name": "stdout",
     "output_type": "stream",
     "text": [
      "salmon fish\n"
     ]
    },
    {
     "ename": "AttributeError",
     "evalue": "'tuple' object has no attribute 'append'",
     "output_type": "error",
     "traceback": [
      "\u001b[1;31m---------------------------------------------------------------------------\u001b[0m",
      "\u001b[1;31mAttributeError\u001b[0m                            Traceback (most recent call last)",
      "\u001b[1;32m<ipython-input-36-fbfc5a510c21>\u001b[0m in \u001b[0;36m<module>\u001b[1;34m\u001b[0m\n\u001b[0;32m      2\u001b[0m \u001b[1;33m\u001b[0m\u001b[0m\n\u001b[0;32m      3\u001b[0m \u001b[0mprint\u001b[0m\u001b[1;33m(\u001b[0m\u001b[0mmy_tuple\u001b[0m\u001b[1;33m[\u001b[0m\u001b[1;36m0\u001b[0m\u001b[1;33m]\u001b[0m\u001b[1;33m,\u001b[0m \u001b[0mmy_tuple\u001b[0m\u001b[1;33m[\u001b[0m\u001b[1;36m1\u001b[0m\u001b[1;33m]\u001b[0m\u001b[1;33m)\u001b[0m\u001b[1;33m\u001b[0m\u001b[1;33m\u001b[0m\u001b[0m\n\u001b[1;32m----> 4\u001b[1;33m \u001b[0mmy_tuple\u001b[0m\u001b[1;33m.\u001b[0m\u001b[0mappend\u001b[0m\u001b[1;33m(\u001b[0m\u001b[1;34m'veg'\u001b[0m\u001b[1;33m)\u001b[0m\u001b[1;33m\u001b[0m\u001b[1;33m\u001b[0m\u001b[0m\n\u001b[0m",
      "\u001b[1;31mAttributeError\u001b[0m: 'tuple' object has no attribute 'append'"
     ]
    }
   ],
   "source": [
    "my_tuple = ('salmon','fish')\n",
    "\n",
    "print(my_tuple[0], my_tuple[1])\n",
    "my_tuple.append('veg')"
   ]
  },
  {
   "cell_type": "code",
   "execution_count": null,
   "metadata": {},
   "outputs": [],
   "source": []
  },
  {
   "cell_type": "code",
   "execution_count": null,
   "metadata": {},
   "outputs": [],
   "source": []
  },
  {
   "cell_type": "markdown",
   "metadata": {},
   "source": [
    "### Slight diversion: the tuple\n",
    "\n",
    "Notice how it prints the items as \n",
    "~~~ python \n",
    "('salmon','fish') \n",
    "~~~\n",
    "What is that? Well, it's actually a new kind of collection. A __tuple__. A tuple (I pronounce it like two-ple) is basically a list except it's immutable and has ```()``` instad of ```[]```. So with a list we could go ```my_list[2] = \"grasshopper\"``` and it would replace the _third_ element in the list with grasshopper (assuming there's already a third element). With a tuple, you cannot. You can query for the third item in a tuple with ```my_tuple[2]``` but you can't assign a new value. See below (it gives an error).  "
   ]
  },
  {
   "cell_type": "code",
   "execution_count": 37,
   "metadata": {},
   "outputs": [
    {
     "name": "stdout",
     "output_type": "stream",
     "text": [
      "beetle\n"
     ]
    }
   ],
   "source": [
    "my_list = [\"ant\",\"ladybug\",\"beetle\"]\n",
    "\n",
    "print(my_list[2])"
   ]
  },
  {
   "cell_type": "code",
   "execution_count": 39,
   "metadata": {},
   "outputs": [
    {
     "name": "stdout",
     "output_type": "stream",
     "text": [
      "['ant', 'ladybug', 'grasshopper']\n"
     ]
    }
   ],
   "source": [
    "my_list[2] = \"grasshopper\"\n",
    "\n",
    "print(my_list)"
   ]
  },
  {
   "cell_type": "code",
   "execution_count": 40,
   "metadata": {},
   "outputs": [
    {
     "name": "stdout",
     "output_type": "stream",
     "text": [
      "beetle\n"
     ]
    }
   ],
   "source": [
    "my_tuple = (\"ant\",\"ladybug\",\"beetle\")\n",
    "print(my_tuple[2])"
   ]
  },
  {
   "cell_type": "code",
   "execution_count": 41,
   "metadata": {},
   "outputs": [
    {
     "ename": "TypeError",
     "evalue": "'tuple' object does not support item assignment",
     "output_type": "error",
     "traceback": [
      "\u001b[1;31m---------------------------------------------------------------------------\u001b[0m",
      "\u001b[1;31mTypeError\u001b[0m                                 Traceback (most recent call last)",
      "\u001b[1;32m<ipython-input-41-f12d71753e26>\u001b[0m in \u001b[0;36m<module>\u001b[1;34m\u001b[0m\n\u001b[1;32m----> 1\u001b[1;33m \u001b[0mmy_tuple\u001b[0m\u001b[1;33m[\u001b[0m\u001b[1;36m2\u001b[0m\u001b[1;33m]\u001b[0m \u001b[1;33m=\u001b[0m \u001b[1;34m\"grasshopper\"\u001b[0m\u001b[1;33m\u001b[0m\u001b[1;33m\u001b[0m\u001b[0m\n\u001b[0m\u001b[0;32m      2\u001b[0m \u001b[1;33m\u001b[0m\u001b[0m\n\u001b[0;32m      3\u001b[0m \u001b[0mprint\u001b[0m\u001b[1;33m(\u001b[0m\u001b[0mmy_tuple\u001b[0m\u001b[1;33m[\u001b[0m\u001b[1;36m2\u001b[0m\u001b[1;33m]\u001b[0m\u001b[1;33m)\u001b[0m\u001b[1;33m\u001b[0m\u001b[1;33m\u001b[0m\u001b[0m\n",
      "\u001b[1;31mTypeError\u001b[0m: 'tuple' object does not support item assignment"
     ]
    }
   ],
   "source": [
    "my_tuple[2] = \"grasshopper\"\n",
    "\n",
    "print(my_tuple[2])"
   ]
  },
  {
   "cell_type": "markdown",
   "metadata": {},
   "source": [
    "One of the nice things about the fact that ```dict.items()``` returns a tuple is that we can actually make use of this in the ```for``` loop. Instead of ```for i in dict:``` where i would be (key,value) we can literally go ```for i,j in dict``` and then do things with these values directly, using i for the key and j for the value."
   ]
  },
  {
   "cell_type": "code",
   "execution_count": null,
   "metadata": {},
   "outputs": [],
   "source": [
    "food_dict = {'salmon': 'fish',\n",
    "             'enoki':  'mushroom',\n",
    "             'apple':  'fruit',\n",
    "             'potato': 'vegetable'}\n",
    "\n",
    "for key,value in food_dict.items():\n",
    "    print(key, \"is a\", value)\n",
    "    \n",
    "print()    \n",
    "    \n",
    "# Reminder: We don't need to use the words 'key' and 'value' \n",
    "for food,foodtype in food_dict.items():\n",
    "    print(food, \"is a\", foodtype)\n",
    "    \n",
    "print()"
   ]
  },
  {
   "cell_type": "code",
   "execution_count": 44,
   "metadata": {},
   "outputs": [
    {
     "name": "stdout",
     "output_type": "stream",
     "text": [
      "('salmon', 'fish')\n",
      "('enoki', 'mushroom')\n",
      "('apple', 'fruit')\n",
      "('potato', 'vegetable')\n",
      "salmon fish\n",
      "enoki mushroom\n",
      "apple fruit\n",
      "potato vegetable\n"
     ]
    }
   ],
   "source": [
    "for t in food_dict.items():\n",
    "    print(t)\n",
    "\n",
    "for t0, t1 in food_dict.items():\n",
    "    \n",
    "    print(t0, t1)\n",
    "  \n"
   ]
  },
  {
   "cell_type": "code",
   "execution_count": 48,
   "metadata": {},
   "outputs": [
    {
     "name": "stdout",
     "output_type": "stream",
     "text": [
      "('chico', 'brazil', 'são paulo')\n",
      "('mary', 'usa', 'philadelphia')\n",
      "('bernie', 'canada', 'toronto')\n"
     ]
    }
   ],
   "source": [
    "peoplelist = [ \n",
    "    (\"chico\",\"brazil\",\"são paulo\"),\n",
    "    (\"mary\",\"usa\",\"philadelphia\"),\n",
    "    (\"bernie\",\"canada\",\"toronto\")\n",
    "]\n",
    "\n",
    "for person, place in peoplelist:\n",
    "    print(place)"
   ]
  },
  {
   "cell_type": "code",
   "execution_count": 49,
   "metadata": {},
   "outputs": [
    {
     "name": "stdout",
     "output_type": "stream",
     "text": [
      "\n",
      "são paulo\n",
      "philadelphia\n",
      "toronto\n"
     ]
    }
   ],
   "source": [
    "print()    \n",
    "    \n",
    "for element in peoplelist:\n",
    "    print(element[2])"
   ]
  },
  {
   "cell_type": "markdown",
   "metadata": {},
   "source": [
    "# Section 2. If statements and boolean logic. \n",
    "\n",
    "Boolean logic is very useful and really important to computation. If a language can implement the basics of ```not```, ```and``` and ```or``` it can do pretty much any computation with enough memory and time. We use boolean logic to evaluate the truth of a statement. Then if a statement is true, we will ask the computer to do something. We can also ask it to do something else if the statement is false. \n",
    "\n",
    "In python these are the boolean operators: \n",
    "\n",
    "- ```==``` is used for comparison. Does X equal Y? ```x == y```\n",
    "- ```and``` is used to ask if two things are both true. ```x and y```\n",
    "- ```or``` is used to ask if either thing is true. ```x or y```\n",
    "- ```not``` as well as ```!``` are used for not. \n",
    "- ```>``` is used for left side greater than right side. \n",
    "- ```<``` is used for left side less than right side. "
   ]
  },
  {
   "cell_type": "code",
   "execution_count": null,
   "metadata": {},
   "outputs": [],
   "source": [
    "True False true false"
   ]
  },
  {
   "cell_type": "code",
   "execution_count": 55,
   "metadata": {},
   "outputs": [
    {
     "name": "stdout",
     "output_type": "stream",
     "text": [
      "False\n"
     ]
    }
   ],
   "source": [
    "x = 4\n",
    "y = 5\n",
    "z = 5 \n",
    "\n",
    "answer = not(z == y)\n",
    "\n",
    "print( answer )"
   ]
  },
  {
   "cell_type": "markdown",
   "metadata": {},
   "source": [
    "Python does comparisons all over the place. Any time you use one of the operators it will evaluate them. But sometimes you want to use these operators to __control the flow__ of a program. For example, if you get some data and it includes a URL you might want to do something with that URL, whereas if it doesn't contain a URL you might want to do something else. For this we use ```if``` and ```else``` statements."
   ]
  },
  {
   "cell_type": "code",
   "execution_count": 57,
   "metadata": {},
   "outputs": [
    {
     "name": "stdout",
     "output_type": "stream",
     "text": [
      "8\n",
      "Yes, z is different from 7.\n"
     ]
    }
   ],
   "source": [
    "x = 5 \n",
    "y = 3\n",
    "z = x + y \n",
    "\n",
    "print(z)\n",
    "\n",
    "if (z != 7): \n",
    "    print(\"Yes, z is different from 7.\")\n",
    "else:\n",
    "    print(\"My math is not good today.\")"
   ]
  },
  {
   "cell_type": "markdown",
   "metadata": {},
   "source": [
    "You can have nested statements with ```elif``` which means ```else if ```. It's a way to try another conditional statement:"
   ]
  },
  {
   "cell_type": "code",
   "execution_count": 62,
   "metadata": {},
   "outputs": [
    {
     "ename": "SyntaxError",
     "evalue": "invalid syntax (<ipython-input-62-b3e52af1e59d>, line 9)",
     "output_type": "error",
     "traceback": [
      "\u001b[1;36m  File \u001b[1;32m\"<ipython-input-62-b3e52af1e59d>\"\u001b[1;36m, line \u001b[1;32m9\u001b[0m\n\u001b[1;33m    elif z > 7:\u001b[0m\n\u001b[1;37m       ^\u001b[0m\n\u001b[1;31mSyntaxError\u001b[0m\u001b[1;31m:\u001b[0m invalid syntax\n"
     ]
    }
   ],
   "source": [
    "#x = 5 \n",
    "#y = 5\n",
    "#z = x + y \n",
    "\n",
    "z = 11\n",
    "\n",
    "if z > 10: \n",
    "    print(\"Hmm...should this be? \")\n",
    "elif z > 7:\n",
    "    print(\"Okay, I was worried for a second there.\")    \n",
    "elif z > 4:\n",
    "    print(\"another one\")    \n",
    "else: \n",
    "    print(\"I give up.\", z)\n"
   ]
  },
  {
   "cell_type": "code",
   "execution_count": 69,
   "metadata": {},
   "outputs": [
    {
     "name": "stdout",
     "output_type": "stream",
     "text": [
      "bla\n",
      "I was doing nothing\n",
      "ble\n",
      "I was doing nothing\n"
     ]
    }
   ],
   "source": [
    "n = 7\n",
    "\n",
    "food_list =  ['bla', 'ble']\n",
    "\n",
    "for food in food_list:\n",
    "    print(food)\n",
    "    if n > 10:\n",
    "        print(\"Yay! n > 10\")\n",
    "\n",
    "        if (n % 2 == 0):\n",
    "            print(\"Yay! n is even\")\n",
    "        else:\n",
    "            print(\"n is odd\")\n",
    "\n",
    "    else:\n",
    "        print(\"I was doing nothing\")"
   ]
  },
  {
   "cell_type": "markdown",
   "metadata": {},
   "source": [
    "## Important notes on comparisons \n",
    "\n",
    "### Note 1: _You can compare strings._ \n",
    "String encodings have code points. These are used to evaluate whether one string is greater than another. So you can ask if ```a > b```. The behavior can be a bit unexpected so I would only use this with caution. For example, what's greater: ```A, a,``` or ```B```? "
   ]
  },
  {
   "cell_type": "code",
   "execution_count": 71,
   "metadata": {},
   "outputs": [
    {
     "name": "stdout",
     "output_type": "stream",
     "text": [
      "Is a < b?\n",
      "True\n"
     ]
    }
   ],
   "source": [
    "# String comparisons \n",
    "print(\"Is a < b?\")\n",
    "print('a' < 'b')"
   ]
  },
  {
   "cell_type": "code",
   "execution_count": 73,
   "metadata": {},
   "outputs": [
    {
     "name": "stdout",
     "output_type": "stream",
     "text": [
      "\n",
      "Is A > b?\n",
      "False\n"
     ]
    }
   ],
   "source": [
    "print(\"\\nIs A > b?\")\n",
    "print('A' > 'b')"
   ]
  },
  {
   "cell_type": "code",
   "execution_count": 72,
   "metadata": {},
   "outputs": [
    {
     "name": "stdout",
     "output_type": "stream",
     "text": [
      "\n",
      "Is a > A?\n",
      "True\n"
     ]
    }
   ],
   "source": [
    "print(\"\\nIs a > A?\")\n",
    "print('a' > 'A')"
   ]
  },
  {
   "cell_type": "markdown",
   "metadata": {},
   "source": [
    "The reason a > A is because characters are represented as numbers in the computer memory.\n",
    "\n",
    "You shouldn't need this anytime soon, but if you are curious, here are those characters, in order: http://www.asciitable.com/"
   ]
  },
  {
   "cell_type": "markdown",
   "metadata": {},
   "source": [
    "### Note 2. _Zero is False, One is True and the rest don't evaluate well_\n",
    "\n",
    "This is the same for a great deal of programming languages. If a variable is ```0``` it will return false. A value of ```1``` will evaluate to ```True```. All other numbers are neither considered ```True``` nor ```False``` on thier own. "
   ]
  },
  {
   "cell_type": "code",
   "execution_count": null,
   "metadata": {},
   "outputs": [],
   "source": [
    "print(\"What evalues to 'True'?\")\n",
    "print(\"-1\\t\", -1 == True)\n",
    "print(\"0\\t\",   0 == True)\n",
    "print(\"1\\t\",   1 == True)\n",
    "print(\"2\\t\",   2 == True)"
   ]
  },
  {
   "cell_type": "code",
   "execution_count": 75,
   "metadata": {},
   "outputs": [
    {
     "name": "stdout",
     "output_type": "stream",
     "text": [
      "\n",
      "What evalues to 'True'?\n",
      "False\n",
      "False\n",
      "True\n",
      "False\n"
     ]
    }
   ],
   "source": [
    "print(\"\\nWhat evalues to 'True'?\")\n",
    "\n",
    "print(-1 == True)\n",
    "print(0 == True)\n",
    "print(1 == True)\n",
    "print(2 == True)"
   ]
  },
  {
   "cell_type": "markdown",
   "metadata": {},
   "source": [
    "### Note 3. Not everything that is empty...is False.\n",
    "\n",
    "There are a number of ways of expressing _nothing_ in python.\n",
    "- There's the notion of a variable being ```None``` or empty.\n",
    "- There's a numeric variable that isn't actually a number, called ```nan```, for _Not A Number_, and it is used for things that don't compute or are missing\n",
    "- There's the empty string ``` \"\" ```\n",
    "- And I'm sure there are more.\n",
    "\n",
    "Be extra careful when evaluating these. For example, ```None``` is not equal to ```False```, but you could still use it that way sometimes. \n"
   ]
  },
  {
   "cell_type": "markdown",
   "metadata": {},
   "source": [
    "An example of why you should be careful: see how any comparison with ```nan``` returns ```False```, but ```nan``` itself returns ```True```:"
   ]
  },
  {
   "cell_type": "code",
   "execution_count": 77,
   "metadata": {},
   "outputs": [
    {
     "name": "stdout",
     "output_type": "stream",
     "text": [
      "False\n",
      "False\n"
     ]
    }
   ],
   "source": [
    "import numpy as np # The python numeric package 'numpy'; we will be using this more later.\n",
    "\n",
    "print(np.nan == True)\n",
    "\n",
    "print(np.nan == False)\n"
   ]
  },
  {
   "cell_type": "markdown",
   "metadata": {},
   "source": [
    "The comparisons with ```None``` below return ```False```, and ```None``` itself returns ```False```:"
   ]
  },
  {
   "cell_type": "code",
   "execution_count": 76,
   "metadata": {},
   "outputs": [
    {
     "ename": "ZeroDivisionError",
     "evalue": "division by zero",
     "output_type": "error",
     "traceback": [
      "\u001b[1;31m---------------------------------------------------------------------------\u001b[0m",
      "\u001b[1;31mZeroDivisionError\u001b[0m                         Traceback (most recent call last)",
      "\u001b[1;32m<ipython-input-76-bc757c3fda29>\u001b[0m in \u001b[0;36m<module>\u001b[1;34m\u001b[0m\n\u001b[1;32m----> 1\u001b[1;33m \u001b[1;36m1\u001b[0m \u001b[1;33m/\u001b[0m \u001b[1;36m0\u001b[0m\u001b[1;33m\u001b[0m\u001b[1;33m\u001b[0m\u001b[0m\n\u001b[0m",
      "\u001b[1;31mZeroDivisionError\u001b[0m: division by zero"
     ]
    }
   ],
   "source": [
    "(1 / 0) == "
   ]
  },
  {
   "cell_type": "code",
   "execution_count": 82,
   "metadata": {},
   "outputs": [
    {
     "ename": "TypeError",
     "evalue": "unsupported operand type(s) for +: 'NoneType' and 'int'",
     "output_type": "error",
     "traceback": [
      "\u001b[1;31m---------------------------------------------------------------------------\u001b[0m",
      "\u001b[1;31mTypeError\u001b[0m                                 Traceback (most recent call last)",
      "\u001b[1;32m<ipython-input-82-0d787d090fa5>\u001b[0m in \u001b[0;36m<module>\u001b[1;34m\u001b[0m\n\u001b[0;32m      1\u001b[0m \u001b[0ma\u001b[0m \u001b[1;33m=\u001b[0m \u001b[1;32mNone\u001b[0m\u001b[1;33m\u001b[0m\u001b[1;33m\u001b[0m\u001b[0m\n\u001b[1;32m----> 2\u001b[1;33m \u001b[0mprint\u001b[0m\u001b[1;33m(\u001b[0m\u001b[0ma\u001b[0m\u001b[1;33m+\u001b[0m\u001b[1;36m1\u001b[0m\u001b[1;33m)\u001b[0m\u001b[1;33m\u001b[0m\u001b[1;33m\u001b[0m\u001b[0m\n\u001b[0m",
      "\u001b[1;31mTypeError\u001b[0m: unsupported operand type(s) for +: 'NoneType' and 'int'"
     ]
    }
   ],
   "source": [
    "a = None\n",
    "print(a+1)"
   ]
  },
  {
   "cell_type": "code",
   "execution_count": 78,
   "metadata": {},
   "outputs": [
    {
     "name": "stdout",
     "output_type": "stream",
     "text": [
      "False\n",
      "False\n"
     ]
    }
   ],
   "source": [
    "print(None == True)\n",
    "\n",
    "print(None == False)"
   ]
  },
  {
   "cell_type": "markdown",
   "metadata": {},
   "source": [
    "The comparisons with ```\"\"``` below return ```False```, and ```\"\"``` itself returns ```False```:"
   ]
  },
  {
   "cell_type": "code",
   "execution_count": 28,
   "metadata": {},
   "outputs": [
    {
     "name": "stdout",
     "output_type": "stream",
     "text": [
      "False\n",
      "False\n",
      "Empty quotes are False\n"
     ]
    }
   ],
   "source": [
    "print(\"\" == True)\n",
    "print(\"\" == False)\n",
    "\n",
    "if \"\": \n",
    "    print(\"Empty quotes are True\")\n",
    "else:\n",
    "    print(\"Empty quotes are False\")"
   ]
  },
  {
   "cell_type": "markdown",
   "metadata": {},
   "source": [
    "Yeah, it is a bit confusing. This is more to just remind you to be careful. "
   ]
  },
  {
   "cell_type": "markdown",
   "metadata": {},
   "source": [
    "# Section 3. Combining Loops and control statements\n",
    "\n",
    "Often we want to do something under certain conditions. For example, you might loop through a list of email addresses and add the domain name (e.g., gmail.com, yahoo.com, etc..) to a set of domain names if it hasn't appeared before. This means that within each loop you want to include an ```if``` statement. \n",
    "\n",
    "Doing this might involve looping through an awful lot of data and you might also want a way to report on progress along  the way. so for example, if you are examining a million email, then to report every 20,000 email just too remind you that the program isn't stuck in a loop. Here we introduce a function called __enumerate__. This function returns a number every time you go through a loop. See these two examples below, one with a counter and one with enumerate: "
   ]
  },
  {
   "cell_type": "code",
   "execution_count": 84,
   "metadata": {},
   "outputs": [
    {
     "name": "stdout",
     "output_type": "stream",
     "text": [
      "Food number 0 is apple\n",
      "At this iteration, counter = 1\n",
      "Food number 1 is banana\n",
      "At this iteration, counter = 2\n",
      "Food number 2 is chocolate\n",
      "At this iteration, counter = 3\n",
      "Food number 3 is dumpling\n",
      "At this iteration, counter = 4\n"
     ]
    }
   ],
   "source": [
    "food_list = [\"apple\",\"banana\",\"chocolate\",\"dumpling\"]\n",
    "\n",
    "counter = 0\n",
    "for foodname in food_list:\n",
    "    print(\"Food number\", counter, \"is\", foodname)\n",
    "    \n",
    "    counter += 1\n",
    "    \n",
    "    print('At this iteration, counter =', counter)\n",
    "    "
   ]
  },
  {
   "cell_type": "code",
   "execution_count": 29,
   "metadata": {},
   "outputs": [
    {
     "name": "stdout",
     "output_type": "stream",
     "text": [
      "Food number 0 is apple\n",
      "Food number 1 is banana\n",
      "Food number 2 is chocolate\n",
      "Food number 3 is dumpling\n",
      "\n",
      "Food number 0 is apple\n",
      "Food number 1 is banana\n",
      "Food number 2 is chocolate\n",
      "Food number 3 is dumpling\n"
     ]
    }
   ],
   "source": [
    "print()\n",
    "\n",
    "for i,foodname in enumerate(food_list):\n",
    "    print(\"Food number\", i, \"is\", foodname)"
   ]
  },
  {
   "cell_type": "markdown",
   "metadata": {},
   "source": [
    "So here is how you would use enumerate to do something every 'nth' time.\n",
    "\n",
    "Here we'll use the function ```range(N)```, which just produces a list with ```N``` numbers, from ```0``` to ```N-1```."
   ]
  },
  {
   "cell_type": "code",
   "execution_count": 87,
   "metadata": {},
   "outputs": [
    {
     "data": {
      "text/plain": [
       "[0,\n",
       " 1,\n",
       " 2,\n",
       " 3,\n",
       " 4,\n",
       " 5,\n",
       " 6,\n",
       " 7,\n",
       " 8,\n",
       " 9,\n",
       " 10,\n",
       " 11,\n",
       " 12,\n",
       " 13,\n",
       " 14,\n",
       " 15,\n",
       " 16,\n",
       " 17,\n",
       " 18,\n",
       " 19,\n",
       " 20,\n",
       " 21,\n",
       " 22,\n",
       " 23,\n",
       " 24,\n",
       " 25,\n",
       " 26,\n",
       " 27,\n",
       " 28,\n",
       " 29,\n",
       " 30,\n",
       " 31,\n",
       " 32,\n",
       " 33,\n",
       " 34,\n",
       " 35,\n",
       " 36,\n",
       " 37,\n",
       " 38,\n",
       " 39,\n",
       " 40,\n",
       " 41,\n",
       " 42,\n",
       " 43,\n",
       " 44,\n",
       " 45,\n",
       " 46,\n",
       " 47,\n",
       " 48,\n",
       " 49]"
      ]
     },
     "execution_count": 87,
     "metadata": {},
     "output_type": "execute_result"
    }
   ],
   "source": [
    "list( range(50)  )"
   ]
  },
  {
   "cell_type": "code",
   "execution_count": 94,
   "metadata": {
    "scrolled": true
   },
   "outputs": [
    {
     "name": "stdout",
     "output_type": "stream",
     "text": [
      "Added the first 0 numbers\n",
      "Added the first 10000000 numbers\n",
      "Added the first 20000000 numbers\n",
      "Added the first 30000000 numbers\n",
      "Added the first 40000000 numbers\n",
      "Added the first 50000000 numbers\n",
      "Added the first 60000000 numbers\n",
      "Added the first 70000000 numbers\n",
      "Added the first 80000000 numbers\n",
      "Added the first 90000000 numbers\n",
      "49999999.5\n"
     ]
    }
   ],
   "source": [
    "sum_of_all_numbers = 0\n",
    "\n",
    "for i in range(10000):\n",
    "    sum_of_all_numbers += i\n",
    "    \n",
    "    if (i % 1000) == 0:\n",
    "        print(\"Added the first\", i, \"numbers\")\n",
    "\n",
    "            \n",
    "average_of_all = sum_of_all_numbers / 100000000\n",
    "print(average_of_all)"
   ]
  },
  {
   "cell_type": "code",
   "execution_count": 103,
   "metadata": {},
   "outputs": [
    {
     "name": "stdout",
     "output_type": "stream",
     "text": [
      "['APPLE', 'BANANA', 'CHOCOLATE', 'DUMPLING']\n"
     ]
    }
   ],
   "source": [
    "mylist = []\n",
    "\n",
    "for i in range(1,10,2):\n",
    "    square = i*i\n",
    "    mylist.append(square)\n",
    "    \n",
    "mynewlist = [ i*i for i in range(1,10,2) ]\n",
    "mynewlist = [ food.upper() for food in food_list ]\n",
    "print(mynewlist)"
   ]
  },
  {
   "cell_type": "markdown",
   "metadata": {},
   "source": [
    "# Section 4. List comprehensions\n",
    "\n",
    "The list comprehension is literally my favorite syntactic sugar in python. You will encounter it all over the place in my code and in other people's code, so it is worth understanding it now. It also will help us think about operating on a full list at a time. This is important as we will be doing this a lot with data later on, by for example, transforming a column of data. \n",
    "\n",
    "The list comprehension is very much like a for loop but is very condensed. \n",
    "\n",
    "Here is an example in the traditional way:\n",
    "\n",
    "~~~ python \n",
    "my_list = [\"allspice\",\"basil\",\"cumin\"]\n",
    "\n",
    "new_list = []\n",
    "for i in my_list:\n",
    "    i = i.upper()\n",
    "    new_list.append(i)\n",
    "~~~\n",
    "\n",
    "Now here it is as a list comprehension: \n",
    "\n",
    "~~~ python\n",
    "my_list = [\"allspice\",\"basil\",\"cumin\"]\n",
    "\n",
    "new_list = [ i.upper() for i in my_list ]  \n",
    "~~~\n",
    "\n",
    "We have condensed it to one line. But it gets better. You can append a control statement at the end, so it will only include that value if if it meets the condition. For example, only do something if the words are of length 5.\n",
    "\n",
    "~~~ python \n",
    "my_list = [\"allspice\",\"basil\",\"cumin\"]\n",
    "\n",
    "new_list = []\n",
    "for i in my_list:\n",
    "    i = i.upper()\n",
    "    if len(i) == 5:\n",
    "        new_list.append(i)\n",
    "~~~\n",
    "\n",
    "Now here is the same outcome using a list comprehension: \n",
    "\n",
    "~~~ python\n",
    "my_list = [\"allspice\",\"basil\",\"cumin\"]\n",
    "\n",
    "new_list = [ i.title() for i in my_list if len(i) == 5 ]  \n",
    "~~~\n",
    "\n",
    "The second way is much more condensed and yet it still reads in an intelligible way. Try them out below: "
   ]
  },
  {
   "cell_type": "code",
   "execution_count": 39,
   "metadata": {},
   "outputs": [
    {
     "name": "stdout",
     "output_type": "stream",
     "text": [
      "['Basil', 'Cumin']\n"
     ]
    }
   ],
   "source": [
    "my_list = [\"allspice\", \"basil\", \"cumin\"]\n",
    "\n",
    "new_list = []\n",
    "for i in my_list:\n",
    "    i = i.title()\n",
    "    if len(i) == 5:\n",
    "        new_list.append(i)\n",
    "\n",
    "print(new_list)"
   ]
  },
  {
   "cell_type": "code",
   "execution_count": 105,
   "metadata": {},
   "outputs": [
    {
     "name": "stdout",
     "output_type": "stream",
     "text": [
      "['BASIL', 'CUMIN']\n"
     ]
    }
   ],
   "source": [
    "my_list = [\"allspice\", \"basil\", \"cumin\"]\n",
    "\n",
    "new_list = [ i.upper() for i in my_list if len(i) == 5 ]  \n",
    "\n",
    "print(new_list)"
   ]
  },
  {
   "cell_type": "markdown",
   "metadata": {},
   "source": [
    "# Section 5. While Loops\n",
    "\n",
    "While loops are useful when you want to continue looping through a program until something happens. They are especially useful for opening and closing files as we will see in the next lecture. Today however, we will simply use a while loop to ask for a user input. If the input is what we expect then it **breaks** the loop. The basic syntax is: \n",
    "\n",
    "~~~ python \n",
    "while <condition is True>: \n",
    "    do_something\n",
    "~~~\n",
    "\n",
    "Often times we just say ```while True``` or ```while 1```. This is an example of an infinite loop and it will not end on its own."
   ]
  },
  {
   "cell_type": "markdown",
   "metadata": {},
   "source": [
    "To leave such a loop we must explicitly break it by clicking on the stop button on top of the screen.\n",
    "\n",
    "( Hint: there's also a shortcut for that. Jupyter has many shortcuts. If you want to see all of them, press **Esc**, and then **H** )"
   ]
  },
  {
   "cell_type": "markdown",
   "metadata": {},
   "source": [
    "Now here's an example of another ```while``` loop, this time one that will ```break``` when something happens:"
   ]
  },
  {
   "cell_type": "code",
   "execution_count": 49,
   "metadata": {},
   "outputs": [
    {
     "name": "stdout",
     "output_type": "stream",
     "text": [
      "After 1 tries: 1\n",
      "After 2 tries: 4\n",
      "After 3 tries: 4\n",
      "After 4 tries: 4\n",
      "After 5 tries: 0\n",
      "After 6 tries: 1\n",
      "After 7 tries: 4\n",
      "After 8 tries: 1\n",
      "After 9 tries: 0\n",
      "After 10 tries: 3\n"
     ]
    }
   ],
   "source": [
    "import numpy.random as random\n",
    "\n",
    "n_tries = 0\n",
    "\n",
    "while True:\n",
    "    n_tries += 1\n",
    "    random_number = random.randint(0,5)\n",
    "    \n",
    "    print(\"After\", n_tries, \"tries:\", random_number)\n",
    "    \n",
    "    if random_number == 3:\n",
    "        break"
   ]
  },
  {
   "cell_type": "code",
   "execution_count": null,
   "metadata": {},
   "outputs": [],
   "source": [
    "while True:\n",
    "    print(\"no\")"
   ]
  },
  {
   "cell_type": "code",
   "execution_count": 110,
   "metadata": {},
   "outputs": [
    {
     "name": "stdout",
     "output_type": "stream",
     "text": [
      "0\n",
      "apple\n",
      "1\n",
      "banana\n",
      "2\n",
      "chocolate\n"
     ]
    }
   ],
   "source": [
    "for i in range(3):\n",
    "    print(i)\n",
    "    print(food_list[i])"
   ]
  }
 ],
 "metadata": {
  "kernelspec": {
   "display_name": "Python 3",
   "language": "python",
   "name": "python3"
  },
  "language_info": {
   "codemirror_mode": {
    "name": "ipython",
    "version": 3
   },
   "file_extension": ".py",
   "mimetype": "text/x-python",
   "name": "python",
   "nbconvert_exporter": "python",
   "pygments_lexer": "ipython3",
   "version": "3.8.8"
  }
 },
 "nbformat": 4,
 "nbformat_minor": 2
}
